{
 "cells": [
  {
   "cell_type": "code",
   "execution_count": 361,
   "metadata": {},
   "outputs": [],
   "source": [
    "import urllib as url\n",
    "import re\n",
    "import chardet"
   ]
  },
  {
   "cell_type": "code",
   "execution_count": 414,
   "metadata": {},
   "outputs": [],
   "source": [
    "def get_link_list(target_url):\n",
    "    response=url.request.urlopen(target_url)\n",
    "    raw_context=response.read()\n",
    "    encode_dic=chardet.detect(raw_context)\n",
    "    try:\n",
    "        context=raw_context.decode(encode_dic['encoding'])\n",
    "    except UnicodeDecodeError:\n",
    "        context=raw_context.decode('utf-8')\n",
    "    clear_context=context.replace('\\n','')\n",
    "    pattern=re.compile('<a .+?</a>') #find all the lines containing hyper link\n",
    "    link_list=pattern.findall(clear_context)\n",
    "    pattern_1=re.compile('\\\"(http[^ ]*)\\\"') # extract all the hyper links\n",
    "    cleared_links=[] # all the cleared links in the web page\n",
    "    for line in link_list:\n",
    "        links=pattern_1.findall(line)\n",
    "        for l in links:\n",
    "            cleared_links.append(l)\n",
    "    return clear_context,cleared_links"
   ]
  },
  {
   "cell_type": "code",
   "execution_count": 398,
   "metadata": {},
   "outputs": [],
   "source": [
    "#get title and write into local files\n",
    "def write_to_file(context):\n",
    "    p=re.compile('<title>(.*)</title>')\n",
    "    title=p.findall(context)[0]\n",
    "    f= open(r'D:\\sgmuserprofile\\sjbgwk\\Desktop\\spider\\\\' + title + r'.csv' ,'w',encoding='utf-8')\n",
    "    f.write(context)\n",
    "    f.close()"
   ]
  },
  {
   "cell_type": "code",
   "execution_count": 418,
   "metadata": {},
   "outputs": [],
   "source": [
    "def spider(start_url):\n",
    "    nodes=[start_url]\n",
    "    seen=set()\n",
    "    while len(nodes)<10000:\n",
    "        node =nodes.pop(0)# Breadth first search\n",
    "#         node=nodes.pop()# depth first search\n",
    "        if node in seen: continue\n",
    "        seen.add(node)\n",
    "        try:\n",
    "            context,links=get_link_list(node)\n",
    "        except Exception:\n",
    "            print('get link error')\n",
    "            continue\n",
    "        try:\n",
    "            if context != '': write_to_file(context)\n",
    "        except Exception: print('os error')\n",
    "        for link in links:\n",
    "            nodes.append(link)\n",
    "#         print(nodes)"
   ]
  },
  {
   "cell_type": "code",
   "execution_count": 419,
   "metadata": {},
   "outputs": [
    {
     "name": "stdout",
     "output_type": "stream",
     "text": [
      "get link error\n",
      "os error\n",
      "get link error\n",
      "get link error\n",
      "get link error\n",
      "get link error\n",
      "get link error\n",
      "os error\n",
      "os error\n",
      "os error\n",
      "get link error\n",
      "get link error\n",
      "get link error\n",
      "get link error\n",
      "get link error\n",
      "get link error\n",
      "get link error\n",
      "get link error\n",
      "get link error\n",
      "get link error\n",
      "os error\n",
      "get link error\n",
      "get link error\n",
      "get link error\n",
      "get link error\n",
      "get link error\n",
      "get link error\n",
      "get link error\n",
      "get link error\n",
      "get link error\n",
      "get link error\n",
      "get link error\n",
      "get link error\n",
      "get link error\n",
      "get link error\n",
      "get link error\n",
      "get link error\n",
      "get link error\n",
      "get link error\n",
      "get link error\n",
      "get link error\n",
      "get link error\n",
      "get link error\n",
      "get link error\n",
      "get link error\n",
      "get link error\n",
      "get link error\n",
      "get link error\n",
      "get link error\n",
      "get link error\n",
      "get link error\n",
      "get link error\n",
      "get link error\n",
      "get link error\n",
      "get link error\n"
     ]
    }
   ],
   "source": [
    "spider('https://www.douban.com/')"
   ]
  },
  {
   "cell_type": "code",
   "execution_count": 159,
   "metadata": {},
   "outputs": [],
   "source": [
    "import scrapy"
   ]
  }
 ],
 "metadata": {
  "kernelspec": {
   "display_name": "Python 3",
   "language": "python",
   "name": "python3"
  },
  "language_info": {
   "codemirror_mode": {
    "name": "ipython",
    "version": 3
   },
   "file_extension": ".py",
   "mimetype": "text/x-python",
   "name": "python",
   "nbconvert_exporter": "python",
   "pygments_lexer": "ipython3",
   "version": "3.7.0"
  }
 },
 "nbformat": 4,
 "nbformat_minor": 2
}
