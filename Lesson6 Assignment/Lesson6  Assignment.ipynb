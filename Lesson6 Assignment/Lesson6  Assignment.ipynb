{
 "cells": [
  {
   "cell_type": "markdown",
   "metadata": {},
   "source": [
    "# Lesson6 Assginment"
   ]
  },
  {
   "cell_type": "markdown",
   "metadata": {},
   "source": [
    "# 1. Summarize the reason of overfitting and underfitting\n",
    "Overfitting reason:  \n",
    "    1.选择的模型过于复杂，feature太多  \n",
    "    2.训练的次数太多  \n",
    "    3.数据中的noise影响  \n",
    "    criterion used for selecting the model is not the same as the criterion used to judge the suitability of a model. \n",
    "    For example, a model might be selected by maximizing its performance on some set of training data, and yet its suitability\n",
    "    might be determined by its ability to perform well on unseen data; \n",
    "Unferfitting reason:  \n",
    "    1.训练的次数不够  \n",
    "    2.模型的feature不够  \n",
    "    3.数据质量不高，例如只采集了局部样本  "
   ]
  },
  {
   "cell_type": "markdown",
   "metadata": {},
   "source": [
    "# 2. install the numpy, scikit-learning, keras, tensorflow"
   ]
  },
  {
   "cell_type": "code",
   "execution_count": null,
   "metadata": {
    "scrolled": true
   },
   "outputs": [],
   "source": [
    "!pip install keras"
   ]
  },
  {
   "cell_type": "code",
   "execution_count": null,
   "metadata": {},
   "outputs": [],
   "source": [
    "!pip install tensorflow"
   ]
  },
  {
   "cell_type": "code",
   "execution_count": null,
   "metadata": {},
   "outputs": [],
   "source": [
    "import tens"
   ]
  },
  {
   "cell_type": "code",
   "execution_count": null,
   "metadata": {},
   "outputs": [],
   "source": [
    "from sklearn import datasets"
   ]
  },
  {
   "cell_type": "markdown",
   "metadata": {},
   "source": [
    "# 3. Write down 3 seceneries that machine learning has been used now\n",
    "自动驾驶，人脸识别，机器翻译，垃圾邮件拦截，广告推送"
   ]
  },
  {
   "cell_type": "markdown",
   "metadata": {},
   "source": [
    "# 4. come out with three new sceneries with machine learning may be used\n",
    "产品的缺陷检测系统： 例如生产线产品经常出现各种喷涂问题，裂缝等问题，图像识别，机器学习算法可以自动识别这些问题，提高效率\n",
    "设备的预测性维护：利用机器运行数据，例如温度，油压等，预测机器何时需要维护保养\n",
    "智能婚恋推荐系统：例如收集用户平时在收集上看的书，听的音乐，消费信息等，匹配同样爱好的人群，以此作为推荐依据。"
   ]
  },
  {
   "cell_type": "code",
   "execution_count": 1,
   "metadata": {},
   "outputs": [
    {
     "ename": "SyntaxError",
     "evalue": "invalid syntax (<ipython-input-1-6d56f9e16bfb>, line 2)",
     "output_type": "error",
     "traceback": [
      "\u001b[1;36m  File \u001b[1;32m\"<ipython-input-1-6d56f9e16bfb>\"\u001b[1;36m, line \u001b[1;32m2\u001b[0m\n\u001b[1;33m    online note\u001b[0m\n\u001b[1;37m              ^\u001b[0m\n\u001b[1;31mSyntaxError\u001b[0m\u001b[1;31m:\u001b[0m invalid syntax\n"
     ]
    }
   ],
   "source": [
    "note\n",
    "online note\n",
    "ACC： 所有的预测中，不管预测为真或假，预测正确的概率\n",
    "Precision： 预测为真的所有预测中，猜对概率\n",
    "Recall： 所有事实为真的事件中，预测正确的概率\n",
    "\n",
    "ACC= 预测正确次数/所有预测次数\n",
    "Precision = 预测为真的且预测正确的次数/预测为真的次数\n",
    "Recall = 预测为真的且预测正确的次数/事实为真的样本数"
   ]
  }
 ],
 "metadata": {
  "kernelspec": {
   "display_name": "Python 3",
   "language": "python",
   "name": "python3"
  },
  "language_info": {
   "codemirror_mode": {
    "name": "ipython",
    "version": 3
   },
   "file_extension": ".py",
   "mimetype": "text/x-python",
   "name": "python",
   "nbconvert_exporter": "python",
   "pygments_lexer": "ipython3",
   "version": "3.7.0"
  }
 },
 "nbformat": 4,
 "nbformat_minor": 2
}
