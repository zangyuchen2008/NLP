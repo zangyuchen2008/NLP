{
 "cells": [
  {
   "cell_type": "markdown",
   "metadata": {},
   "source": [
    "### saturation of the final layout outputs:\n",
    "demostration on logistic sigmoid and std normal distribution init problem "
   ]
  },
  {
   "cell_type": "code",
   "execution_count": 1218,
   "metadata": {},
   "outputs": [],
   "source": [
    "import numpy as np"
   ]
  },
  {
   "cell_type": "code",
   "execution_count": 1234,
   "metadata": {},
   "outputs": [
    {
     "name": "stdout",
     "output_type": "stream",
     "text": [
      "there is % 92  nuerals in the last-1 layer has big value, which causes the last layer output of \n",
      " logistic sigmoid fuc value bigger than 0.95 or smaller than 0.05\n"
     ]
    }
   ],
   "source": [
    "result=[]\n",
    "\n",
    "for _ in range(100):\n",
    "    x=np.random.randn()\n",
    "    w=np.random.randn(1,100)\n",
    "    b=np.random.randn(1,100)\n",
    "    x=np.asarray([[2]])\n",
    "    y=x.dot(w)+b\n",
    "    y=1 / (1 + np.exp(-(y)))\n",
    "    w=np.random.randn(100,50)\n",
    "    b=np.random.randn(1,50)\n",
    "    y=y.dot(w)+b\n",
    "    y=1 / (1 + np.exp(-(y)))\n",
    "    w=np.random.randn(50,50)\n",
    "    b=np.random.randn(1,50)\n",
    "    y=y.dot(w)+b\n",
    "    y=1 / (1 + np.exp(-(y)))\n",
    "    w=np.random.randn(50,2000)\n",
    "    b=np.random.randn(1,2000)\n",
    "    y=y.dot(w)+b\n",
    "    y=1 / (1 + np.exp(-(y)))\n",
    "    w=np.random.randn(2000,1)\n",
    "    b=np.random.randn(1,1)\n",
    "    y=y.dot(w)+b\n",
    "    y=1 / (1 + np.exp(-(y)))\n",
    "    result.append(y)\n",
    "result=np.asarray(result)\n",
    "persentage = np.sum(result.reshape(100)<0.05) + np.sum(result.reshape(100)>0.95)\n",
    "print('there is %',persentage, ' nuerals in the last-1 layer has big value, which causes the last layer output\\\n",
    " of \\n logistic sigmoid fuc value bigger than 0.95 or smaller than 0.05')"
   ]
  }
 ],
 "metadata": {
  "kernelspec": {
   "display_name": "Python 3",
   "language": "python",
   "name": "python3"
  },
  "language_info": {
   "codemirror_mode": {
    "name": "ipython",
    "version": 3
   },
   "file_extension": ".py",
   "mimetype": "text/x-python",
   "name": "python",
   "nbconvert_exporter": "python",
   "pygments_lexer": "ipython3",
   "version": "3.7.0"
  }
 },
 "nbformat": 4,
 "nbformat_minor": 2
}
