{
 "cells": [
  {
   "cell_type": "markdown",
   "metadata": {},
   "source": [
    "# Editting_distance\n",
    "+ 分析子问题的重复性\n",
    "+ 子问题进行存储\n",
    "+ Solution 要进行解析"
   ]
  },
  {
   "cell_type": "code",
   "execution_count": 5,
   "metadata": {},
   "outputs": [],
   "source": [
    "from collections import defaultdict, Counter\n",
    "from functools import wraps"
   ]
  },
  {
   "cell_type": "code",
   "execution_count": 2,
   "metadata": {},
   "outputs": [],
   "source": [
    "price=[1, 5, 8, 9, 10, 17, 17, 20, 24, 30]"
   ]
  },
  {
   "cell_type": "code",
   "execution_count": 3,
   "metadata": {},
   "outputs": [],
   "source": [
    "revenue = defaultdict(int)\n",
    "for i, value in enumerate(price):\n",
    "    revenue[i+1] = value"
   ]
  },
  {
   "cell_type": "code",
   "execution_count": 4,
   "metadata": {},
   "outputs": [],
   "source": [
    "call_time_dic=defaultdict(int)\n",
    "calculated_node_dic=defaultdict(int)"
   ]
  },
  {
   "cell_type": "code",
   "execution_count": 5,
   "metadata": {},
   "outputs": [],
   "source": [
    "def call_time(f):\n",
    "    call_time_dic=defaultdict(int)\n",
    "    @wraps(f)\n",
    "    def inner(arg):\n",
    "        '''call_time doc'''\n",
    "        call_time_dic[f.__name__ + str(arg)] +=1\n",
    "        result=f(arg)\n",
    "        return result\n",
    "    return inner"
   ]
  },
  {
   "cell_type": "code",
   "execution_count": 6,
   "metadata": {},
   "outputs": [],
   "source": [
    "def memo(f):\n",
    "    calculated_node_dic=defaultdict(int)\n",
    "    @wraps(f)\n",
    "    def inner(num):\n",
    "        '''memo doc'''\n",
    "        if f.__name__ + str(num) in calculated_node_dic:\n",
    "            return calculated_node_dic[f.__name__+str(num)]\n",
    "        else:\n",
    "            result = f(num)\n",
    "            calculated_node_dic[f.__name__+str(num)] = result\n",
    "            return result\n",
    "    return inner"
   ]
  },
  {
   "cell_type": "code",
   "execution_count": 7,
   "metadata": {},
   "outputs": [],
   "source": [
    "def parse_solution(n):\n",
    "    left, right = solution[n]\n",
    "    if left == 0 : return [right]\n",
    "    else:\n",
    "        return parse_solution(left) + parse_solution(right)"
   ]
  },
  {
   "cell_type": "code",
   "execution_count": 8,
   "metadata": {},
   "outputs": [],
   "source": [
    "#get best revenue\n",
    "solution = {}\n",
    "@call_time\n",
    "@memo\n",
    "def r(lengh):\n",
    "    '''this is the first decorated function'''\n",
    "    max_revene, split_len = max([(revenue[lengh],0)] + [(r(i) + r(lengh-i),i) for i in range(1,lengh)],key=lambda x:x[0] )\n",
    "    solution[lengh] = (split_len,lengh-split_len)\n",
    "    return max_revene\n",
    "\n"
   ]
  },
  {
   "cell_type": "code",
   "execution_count": 9,
   "metadata": {},
   "outputs": [
    {
     "data": {
      "text/plain": [
       "35"
      ]
     },
     "execution_count": 9,
     "metadata": {},
     "output_type": "execute_result"
    }
   ],
   "source": [
    "r(12)"
   ]
  },
  {
   "cell_type": "code",
   "execution_count": 10,
   "metadata": {},
   "outputs": [
    {
     "data": {
      "text/plain": [
       "[2, 10]"
      ]
     },
     "execution_count": 10,
     "metadata": {},
     "output_type": "execute_result"
    }
   ],
   "source": [
    "parse_solution(12)"
   ]
  },
  {
   "cell_type": "markdown",
   "metadata": {},
   "source": [
    "# Editting Distance"
   ]
  },
  {
   "cell_type": "code",
   "execution_count": 6,
   "metadata": {},
   "outputs": [],
   "source": [
    "import networkx as nx"
   ]
  },
  {
   "cell_type": "code",
   "execution_count": 120,
   "metadata": {},
   "outputs": [],
   "source": [
    "# calculate edit distance\n",
    "solution = {}\n",
    "# @lru_cache(maxsize=2**10)\n",
    "def edit_distance(string1, string2):\n",
    "    \n",
    "    if len(string1) == 0: return len(string2)\n",
    "    if len(string2) == 0: return len(string1)\n",
    "    \n",
    "    tail_s1 = string1[-1]\n",
    "    tail_s2 = string2[-1]\n",
    "    \n",
    "    candidates = [\n",
    "        (edit_distance(string1[:-1], string2) + 1, 'DEL {}'.format(tail_s1)),  # string 1 delete tail\n",
    "        (edit_distance(string1, string2[:-1]) + 1, 'ADD {}'.format(tail_s2)),  # string 1 add tail of string2\n",
    "    ]\n",
    "    \n",
    "    if tail_s1 == tail_s2:\n",
    "        both_forward = (edit_distance(string1[:-1], string2[:-1]) + 0, '')\n",
    "    else:\n",
    "        both_forward = (edit_distance(string1[:-1], string2[:-1]) + 1, 'SUB {} => {}'.format(tail_s1, tail_s2))\n",
    "\n",
    "    candidates.append(both_forward)\n",
    "    \n",
    "    min_distance, operation = min(candidates, key=lambda x: x[0])\n",
    "    \n",
    "    solution[(string1, string2)] = operation \n",
    "    \n",
    "    return min_distance"
   ]
  },
  {
   "cell_type": "code",
   "execution_count": 121,
   "metadata": {},
   "outputs": [
    {
     "data": {
      "text/plain": [
       "4"
      ]
     },
     "execution_count": 121,
     "metadata": {},
     "output_type": "execute_result"
    }
   ],
   "source": [
    "edit_distance('helloray','hellochen')"
   ]
  },
  {
   "cell_type": "code",
   "execution_count": 122,
   "metadata": {},
   "outputs": [
    {
     "data": {
      "text/plain": [
       "{('h', 'h'): '',\n",
       " ('h', 'he'): 'ADD e',\n",
       " ('h', 'hel'): 'ADD l',\n",
       " ('h', 'hell'): 'ADD l',\n",
       " ('h', 'hello'): 'ADD o',\n",
       " ('h', 'helloc'): 'ADD c',\n",
       " ('h', 'helloch'): 'ADD h',\n",
       " ('h', 'helloche'): 'ADD e',\n",
       " ('h', 'hellochen'): 'ADD n',\n",
       " ('he', 'h'): 'DEL e',\n",
       " ('he', 'he'): '',\n",
       " ('he', 'hel'): 'ADD l',\n",
       " ('he', 'hell'): 'ADD l',\n",
       " ('he', 'hello'): 'ADD o',\n",
       " ('he', 'helloc'): 'ADD c',\n",
       " ('he', 'helloch'): 'ADD h',\n",
       " ('he', 'helloche'): 'ADD e',\n",
       " ('he', 'hellochen'): 'ADD n',\n",
       " ('hel', 'h'): 'DEL l',\n",
       " ('hel', 'he'): 'DEL l',\n",
       " ('hel', 'hel'): '',\n",
       " ('hel', 'hell'): 'ADD l',\n",
       " ('hel', 'hello'): 'ADD o',\n",
       " ('hel', 'helloc'): 'ADD c',\n",
       " ('hel', 'helloch'): 'ADD h',\n",
       " ('hel', 'helloche'): 'ADD e',\n",
       " ('hel', 'hellochen'): 'ADD n',\n",
       " ('hell', 'h'): 'DEL l',\n",
       " ('hell', 'he'): 'DEL l',\n",
       " ('hell', 'hel'): 'DEL l',\n",
       " ('hell', 'hell'): '',\n",
       " ('hell', 'hello'): 'ADD o',\n",
       " ('hell', 'helloc'): 'ADD c',\n",
       " ('hell', 'helloch'): 'ADD h',\n",
       " ('hell', 'helloche'): 'ADD e',\n",
       " ('hell', 'hellochen'): 'ADD n',\n",
       " ('hello', 'h'): 'DEL o',\n",
       " ('hello', 'he'): 'DEL o',\n",
       " ('hello', 'hel'): 'DEL o',\n",
       " ('hello', 'hell'): 'DEL o',\n",
       " ('hello', 'hello'): '',\n",
       " ('hello', 'helloc'): 'ADD c',\n",
       " ('hello', 'helloch'): 'ADD h',\n",
       " ('hello', 'helloche'): 'ADD e',\n",
       " ('hello', 'hellochen'): 'ADD n',\n",
       " ('hellor', 'h'): 'DEL r',\n",
       " ('hellor', 'he'): 'DEL r',\n",
       " ('hellor', 'hel'): 'DEL r',\n",
       " ('hellor', 'hell'): 'DEL r',\n",
       " ('hellor', 'hello'): 'DEL r',\n",
       " ('hellor', 'helloc'): 'SUB r => c',\n",
       " ('hellor', 'helloch'): 'ADD h',\n",
       " ('hellor', 'helloche'): 'ADD e',\n",
       " ('hellor', 'hellochen'): 'ADD n',\n",
       " ('hellora', 'h'): 'DEL a',\n",
       " ('hellora', 'he'): 'DEL a',\n",
       " ('hellora', 'hel'): 'DEL a',\n",
       " ('hellora', 'hell'): 'DEL a',\n",
       " ('hellora', 'hello'): 'DEL a',\n",
       " ('hellora', 'helloc'): 'DEL a',\n",
       " ('hellora', 'helloch'): 'SUB a => h',\n",
       " ('hellora', 'helloche'): 'ADD e',\n",
       " ('hellora', 'hellochen'): 'ADD n',\n",
       " ('helloray', 'h'): 'DEL y',\n",
       " ('helloray', 'he'): 'DEL y',\n",
       " ('helloray', 'hel'): 'DEL y',\n",
       " ('helloray', 'hell'): 'DEL y',\n",
       " ('helloray', 'hello'): 'DEL y',\n",
       " ('helloray', 'helloc'): 'DEL y',\n",
       " ('helloray', 'helloch'): 'DEL y',\n",
       " ('helloray', 'helloche'): 'SUB y => e',\n",
       " ('helloray', 'hellochen'): 'ADD n'}"
      ]
     },
     "execution_count": 122,
     "metadata": {},
     "output_type": "execute_result"
    }
   ],
   "source": [
    "solution"
   ]
  },
  {
   "cell_type": "code",
   "execution_count": 123,
   "metadata": {},
   "outputs": [],
   "source": [
    "#find edit sequence of minmun edit distance\n",
    "min_string_tuple_list=[]\n",
    "def get_min_edited_solution(str_tuple, result_solution):\n",
    "    if str_tuple in list(result_solution.keys()): \n",
    "        min_string_tuple_list.append([str_tuple, result_solution[str_tuple]])\n",
    "    else:\n",
    "        return min_string_tuple_list\n",
    "    if result_solution[str_tuple] == '':\n",
    "        str_tuple = (str_tuple[0][:-1], str_tuple[1][:-1])\n",
    "    elif 'ADD' in result_solution[str_tuple]:\n",
    "        str_tuple = (str_tuple[0], str_tuple[1][:-1])\n",
    "    elif 'DEL' in result_solution[str_tuple]:\n",
    "        str_tuple = (str_tuple[0][:-1], str_tuple[1])\n",
    "    elif 'SUB' in result_solution[str_tuple]:\n",
    "        str_tuple = (str_tuple[0][:-1], str_tuple[1][:-1])\n",
    "    return get_min_edited_solution(str_tuple, result_solution)"
   ]
  },
  {
   "cell_type": "code",
   "execution_count": 124,
   "metadata": {},
   "outputs": [
    {
     "data": {
      "text/plain": [
       "[[('helloray', 'hellochen'), 'ADD n'],\n",
       " [('helloray', 'helloche'), 'SUB y => e'],\n",
       " [('hellora', 'helloch'), 'SUB a => h'],\n",
       " [('hellor', 'helloc'), 'SUB r => c'],\n",
       " [('hello', 'hello'), ''],\n",
       " [('hell', 'hell'), ''],\n",
       " [('hel', 'hel'), ''],\n",
       " [('he', 'he'), ''],\n",
       " [('h', 'h'), '']]"
      ]
     },
     "execution_count": 124,
     "metadata": {},
     "output_type": "execute_result"
    }
   ],
   "source": [
    "get_min_edited_solution( list(solution.keys())[-1],solution)"
   ]
  }
 ],
 "metadata": {
  "kernelspec": {
   "display_name": "Python 3",
   "language": "python",
   "name": "python3"
  },
  "language_info": {
   "codemirror_mode": {
    "name": "ipython",
    "version": 3
   },
   "file_extension": ".py",
   "mimetype": "text/x-python",
   "name": "python",
   "nbconvert_exporter": "python",
   "pygments_lexer": "ipython3",
   "version": "3.7.3"
  }
 },
 "nbformat": 4,
 "nbformat_minor": 2
}
