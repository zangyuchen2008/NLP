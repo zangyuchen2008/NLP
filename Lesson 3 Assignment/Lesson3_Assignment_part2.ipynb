{
 "cells": [
  {
   "cell_type": "markdown",
   "metadata": {},
   "source": [
    "# Lesson3_Assignment"
   ]
  },
  {
   "cell_type": "markdown",
   "metadata": {},
   "source": [
    "## Part 2: change loss function from $loss = \\frac{1}{n}\\sum{(y_i - \\hat(y_i))^2}$ to $loss = \\frac{1}{n}\\sum{|y_i - \\hat{y_i}|}$, and using your mathmatical knowledge to get the right partial formual. Implemen the gradient descent code."
   ]
  },
  {
   "cell_type": "code",
   "execution_count": 39,
   "metadata": {},
   "outputs": [],
   "source": [
    "from sklearn.datasets import load_boston\n",
    "import numpy as np\n",
    "import pandas as pd\n",
    "#Scikit-learn(sklearn)是机器学习中常用的第三方模块，对常用的机器学习方法进行了封装，\n",
    "# 包括回归(Regression)、降维(Dimensionality Reduction)、分类(Classfication)、聚类(Clustering)等方法。"
   ]
  },
  {
   "cell_type": "code",
   "execution_count": 5,
   "metadata": {},
   "outputs": [],
   "source": [
    "dataset = load_boston()"
   ]
  },
  {
   "cell_type": "code",
   "execution_count": 33,
   "metadata": {},
   "outputs": [],
   "source": [
    "dimentions, y= dataset['data'], dataset['target']"
   ]
  },
  {
   "cell_type": "code",
   "execution_count": 26,
   "metadata": {},
   "outputs": [],
   "source": [
    "import matplotlib.pyplot as plt"
   ]
  },
  {
   "cell_type": "code",
   "execution_count": 34,
   "metadata": {},
   "outputs": [
    {
     "name": "stdout",
     "output_type": "stream",
     "text": [
      "dimentions shape is: (506, 13) \n",
      " y shape is (506,)\n"
     ]
    }
   ],
   "source": [
    "print('dimentions shape is:',dimentions.shape,'\\n','y shape is',y.shape)"
   ]
  },
  {
   "cell_type": "code",
   "execution_count": 35,
   "metadata": {},
   "outputs": [],
   "source": [
    "x=dimentions[:,5]"
   ]
  },
  {
   "cell_type": "code",
   "execution_count": 36,
   "metadata": {},
   "outputs": [
    {
     "data": {
      "text/plain": [
       "<matplotlib.collections.PathCollection at 0x21913dda7b8>"
      ]
     },
     "execution_count": 36,
     "metadata": {},
     "output_type": "execute_result"
    },
    {
     "data": {
      "image/png": "[encoded data removed]",
      "text/plain": [
       "<Figure size 432x288 with 1 Axes>"
      ]
     },
     "metadata": {
      "needs_background": "light"
     },
     "output_type": "display_data"
    }
   ],
   "source": [
    "plt.scatter(x,y)"
   ]
  },
  {
   "cell_type": "code",
   "execution_count": 117,
   "metadata": {},
   "outputs": [],
   "source": [
    "def loss_func(k,b):\n",
    "    return (np.abs(y-k*x-b)).sum()"
   ]
  },
  {
   "cell_type": "code",
   "execution_count": 118,
   "metadata": {},
   "outputs": [],
   "source": [
    "current_k=np.random.randint(-100,100)\n",
    "current_b=np.random.randint(-100,100)"
   ]
  },
  {
   "cell_type": "code",
   "execution_count": 121,
   "metadata": {},
   "outputs": [],
   "source": [
    "def get_yhat(k,b,x):\n",
    "    return k*x+b"
   ]
  },
  {
   "cell_type": "code",
   "execution_count": 210,
   "metadata": {},
   "outputs": [],
   "source": [
    "#get partial deirvative of parameter varaible k\n",
    "def get_patial_derivative_k(k,b,x,y):\n",
    "    yhat=get_yhat(k,b,x)\n",
    "    return ((-1)*(x[(y>yhat)]).sum()+(x[(y<yhat)]).sum())/len(x)"
   ]
  },
  {
   "cell_type": "code",
   "execution_count": 209,
   "metadata": {},
   "outputs": [],
   "source": [
    "#get partial deirvative of parameter varaible b\n",
    "def get_patial_derivative_b(k,b,x,y):\n",
    "    yhat=get_yhat(k,b,x)\n",
    "    return ((-1)*(y>yhat).sum()+(y<yhat).sum())/len(x)"
   ]
  },
  {
   "cell_type": "code",
   "execution_count": 218,
   "metadata": {},
   "outputs": [
    {
     "name": "stdout",
     "output_type": "stream",
     "text": [
      "estimated loss is 15174.421162658102\n",
      "estimated loss is 2622.773561487359\n",
      "estimated loss is 2485.1372037000056\n",
      "estimated loss is 2394.8060764841853\n",
      "estimated loss is 2329.096839109484\n",
      "estimated loss is 2289.2686670162147\n",
      "estimated loss is 2266.5961704225174\n",
      "estimated loss is 2254.1461770849737\n",
      "estimated loss is 2249.422132491305\n",
      "estimated loss is 2247.2312843892573\n",
      "9.389218181818714 -36.32173913043336\n"
     ]
    },
    {
     "data": {
      "image/png": "[encoded data removed]",
      "text/plain": [
       "<Figure size 432x288 with 1 Axes>"
      ]
     },
     "metadata": {
      "needs_background": "light"
     },
     "output_type": "display_data"
    }
   ],
   "source": [
    "# gradient descent algorithm\n",
    "loop_times=10000\n",
    "learning_rate=0.2\n",
    "current_k=np.random.randint(0,10)\n",
    "current_b=np.random.randint(0,10)\n",
    "while loop_times>0:\n",
    "    current_k=current_k - learning_rate* get_patial_derivative_k(current_k,current_b,x,y)\n",
    "    current_b=current_b - learning_rate* get_patial_derivative_b(current_k,current_b,x,y)\n",
    "    if loop_times%1000==0:\n",
    "        print('estimated loss is {}'.format(loss_func(current_k,current_b)))\n",
    "    loss=loss_func(current_k,current_b)\n",
    "    loop_times-=1\n",
    "plt.scatter(x,get_yhat(current_k,current_b,x))\n",
    "plt.scatter(x,y)\n",
    "print(current_k,current_b)"
   ]
  },
  {
   "cell_type": "code",
   "execution_count": 1,
   "metadata": {},
   "outputs": [],
   "source": [
    "a=[1,2,3,6,3,2,24,5]"
   ]
  },
  {
   "cell_type": "code",
   "execution_count": 2,
   "metadata": {},
   "outputs": [],
   "source": [
    "b={}"
   ]
  },
  {
   "cell_type": "code",
   "execution_count": 3,
   "metadata": {},
   "outputs": [],
   "source": [
    "for i, value in enumerate(a):\n",
    "    b[i+1]=value"
   ]
  },
  {
   "cell_type": "code",
   "execution_count": 4,
   "metadata": {},
   "outputs": [
    {
     "data": {
      "text/plain": [
       "{1: 1, 2: 2, 3: 3, 4: 6, 5: 3, 6: 2, 7: 24, 8: 5}"
      ]
     },
     "execution_count": 4,
     "metadata": {},
     "output_type": "execute_result"
    }
   ],
   "source": [
    "b"
   ]
  }
 ],
 "metadata": {
  "kernelspec": {
   "display_name": "Python 3",
   "language": "python",
   "name": "python3"
  },
  "language_info": {
   "codemirror_mode": {
    "name": "ipython",
    "version": 3
   },
   "file_extension": ".py",
   "mimetype": "text/x-python",
   "name": "python",
   "nbconvert_exporter": "python",
   "pygments_lexer": "ipython3",
   "version": "3.7.0"
  }
 },
 "nbformat": 4,
 "nbformat_minor": 2
}
