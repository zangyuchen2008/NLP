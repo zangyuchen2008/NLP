{
 "cells": [
  {
   "cell_type": "markdown",
   "metadata": {},
   "source": [
    "# Part 5-1: review machine learning"
   ]
  },
  {
   "cell_type": "markdown",
   "metadata": {},
   "source": [
    "## Why do we use Derivative / Gredient to fit a target function?¶\n",
    "Ans: The negative Derivative/Gradient represents the direction along which the loss function will decrease with \n",
    "    the fastest speed"
   ]
  },
  {
   "cell_type": "markdown",
   "metadata": {},
   "source": [
    "## In the words 'Gredient Descent', what's the Gredient and what's the Descent?\n",
    "Ans: Gradient comes from mathematics which means a vector of some function, each element of that vector can be calculated \n",
    "    via partial derivative.\n",
    "    Descent means if we move along the negative direction of Gradient vector, we can finnaly find the minimum of the function\n",
    "    , if we plot a graph of the function, imaging there is a little ball moving on the graph, it's like the ball is descending, \n",
    "    that's why we call this methodology Gradient Descent."
   ]
  },
  {
   "cell_type": "markdown",
   "metadata": {},
   "source": [
    "## What's the advantages of the 3rd gradient descent method compared to the previous methods?\n",
    "Ans: It's fast as previously described."
   ]
  },
  {
   "cell_type": "markdown",
   "metadata": {},
   "source": [
    "## Using the simple words to describe: What's the machine leanring.¶\n",
    "Ans: Machine Learning is the science of getting computers to learn and act like humans do, and \n",
    "    improve their learning over time in autonomous fashion, by feeding them data and information \n",
    "    in the form of observations and real-world interactions."
   ]
  }
 ],
 "metadata": {
  "kernelspec": {
   "display_name": "Python 3",
   "language": "python",
   "name": "python3"
  },
  "language_info": {
   "codemirror_mode": {
    "name": "ipython",
    "version": 3
   },
   "file_extension": ".py",
   "mimetype": "text/x-python",
   "name": "python",
   "nbconvert_exporter": "python",
   "pygments_lexer": "ipython3",
   "version": "3.7.0"
  }
 },
 "nbformat": 4,
 "nbformat_minor": 2
}
