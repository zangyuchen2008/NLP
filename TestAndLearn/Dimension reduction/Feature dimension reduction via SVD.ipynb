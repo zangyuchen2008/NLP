{
 "cells": [
  {
   "cell_type": "markdown",
   "metadata": {},
   "source": [
    "# Feature dimension reduction via SVD"
   ]
  },
  {
   "cell_type": "code",
   "execution_count": 1,
   "metadata": {},
   "outputs": [],
   "source": [
    "import numpy as np"
   ]
  },
  {
   "cell_type": "markdown",
   "metadata": {},
   "source": [
    "## this is an example(18.4) from stanford book on lsa(latent semantic indexing or analysis) introduction:\n",
    "link1: https://nlp.stanford.edu/IR-book/pdf/18lsi.pdf"
   ]
  },
  {
   "cell_type": "markdown",
   "metadata": {},
   "source": [
    "### aa is an term-document matrix (rows for tokens, columns for documents)"
   ]
  },
  {
   "cell_type": "code",
   "execution_count": 68,
   "metadata": {},
   "outputs": [
    {
     "data": {
      "text/plain": [
       "array([[1, 0, 1, 0, 0, 0],\n",
       "       [0, 1, 0, 0, 0, 0],\n",
       "       [1, 1, 0, 0, 0, 0],\n",
       "       [1, 0, 0, 1, 1, 0],\n",
       "       [0, 0, 0, 1, 0, 1]])"
      ]
     },
     "execution_count": 68,
     "metadata": {},
     "output_type": "execute_result"
    }
   ],
   "source": [
    "aa = np.array([[1, 0, 1, 0, 0, 0],\n",
    "       [0, 1, 0, 0, 0, 0],\n",
    "       [1, 1, 0, 0, 0, 0],\n",
    "       [1, 0, 0, 1, 1, 0],\n",
    "       [0, 0, 0, 1, 0, 1]])\n",
    "aa"
   ]
  },
  {
   "cell_type": "markdown",
   "metadata": {},
   "source": [
    "### SVD"
   ]
  },
  {
   "cell_type": "code",
   "execution_count": 69,
   "metadata": {},
   "outputs": [],
   "source": [
    "u, s, v =np.linalg.svd(aa,full_matrices=False)"
   ]
  },
  {
   "cell_type": "code",
   "execution_count": 70,
   "metadata": {},
   "outputs": [
    {
     "data": {
      "text/plain": [
       "array([[ 4.40347480e-01, -2.96174360e-01, -5.69497581e-01,\n",
       "         5.77350269e-01, -2.46402144e-01],\n",
       "       [ 1.29346349e-01, -3.31450692e-01,  5.87021697e-01,\n",
       "         9.43689571e-16, -7.27197008e-01],\n",
       "       [ 4.75530263e-01, -5.11115242e-01,  3.67689978e-01,\n",
       "         4.51851436e-16,  6.14358412e-01],\n",
       "       [ 7.03020318e-01,  3.50572409e-01, -1.54905878e-01,\n",
       "        -5.77350269e-01, -1.59788154e-01],\n",
       "       [ 2.62672838e-01,  6.46746769e-01,  4.14591704e-01,\n",
       "         5.77350269e-01,  8.66139898e-02]])"
      ]
     },
     "execution_count": 70,
     "metadata": {},
     "output_type": "execute_result"
    }
   ],
   "source": [
    "u"
   ]
  },
  {
   "cell_type": "code",
   "execution_count": 71,
   "metadata": {
    "scrolled": true
   },
   "outputs": [
    {
     "data": {
      "text/plain": [
       "array([2.16250096, 1.59438237, 1.27529025, 1.        , 0.39391525])"
      ]
     },
     "execution_count": 71,
     "metadata": {},
     "output_type": "execute_result"
    }
   ],
   "source": [
    "s"
   ]
  },
  {
   "cell_type": "code",
   "execution_count": 78,
   "metadata": {},
   "outputs": [
    {
     "data": {
      "text/plain": [
       "array([[ 7.48623048e-01,  2.79711603e-01,  2.03628802e-01,\n",
       "         4.46563110e-01,  3.25095956e-01,  1.21467154e-01],\n",
       "       [-2.86453991e-01, -5.28459139e-01, -1.85761186e-01,\n",
       "         6.25520701e-01,  2.19879758e-01,  4.05640944e-01],\n",
       "       [-2.79711603e-01,  7.48623048e-01, -4.46563110e-01,\n",
       "         2.03628802e-01, -1.21467154e-01,  3.25095956e-01],\n",
       "       [-4.16290741e-16,  1.06695915e-15,  5.77350269e-01,\n",
       "         2.38203550e-16, -5.77350269e-01,  5.77350269e-01],\n",
       "       [ 5.28459139e-01, -2.86453991e-01, -6.25520701e-01,\n",
       "        -1.85761186e-01, -4.05640944e-01,  2.19879758e-01]])"
      ]
     },
     "execution_count": 78,
     "metadata": {},
     "output_type": "execute_result"
    }
   ],
   "source": [
    "v"
   ]
  },
  {
   "cell_type": "markdown",
   "metadata": {},
   "source": [
    "### keep k= 2 dimention, and create diagnized Σ matrix"
   ]
  },
  {
   "cell_type": "code",
   "execution_count": 72,
   "metadata": {},
   "outputs": [
    {
     "data": {
      "text/plain": [
       "array([[2.16250096, 0.        , 0.        , 0.        , 0.        ],\n",
       "       [0.        , 1.59438237, 0.        , 0.        , 0.        ],\n",
       "       [0.        , 0.        , 0.        , 0.        , 0.        ],\n",
       "       [0.        , 0.        , 0.        , 0.        , 0.        ],\n",
       "       [0.        , 0.        , 0.        , 0.        , 0.        ]])"
      ]
     },
     "execution_count": 72,
     "metadata": {},
     "output_type": "execute_result"
    }
   ],
   "source": [
    "s[2:]=0\n",
    "dia= np.diag(s)\n",
    "dia"
   ]
  },
  {
   "cell_type": "markdown",
   "metadata": {},
   "source": [
    "### optimized matrix after removing last r-k components"
   ]
  },
  {
   "cell_type": "code",
   "execution_count": 75,
   "metadata": {},
   "outputs": [
    {
     "data": {
      "text/plain": [
       "array([[ 0.8481456 ,  0.51590232,  0.28162515,  0.12986018,  0.20574267,\n",
       "        -0.07588249],\n",
       "       [ 0.36077778,  0.35750764,  0.15512454, -0.20565325, -0.02526436,\n",
       "        -0.18038889],\n",
       "       [ 1.00327014,  0.71828543,  0.36077778, -0.05052871,  0.15512454,\n",
       "        -0.20565325],\n",
       "       [ 0.97800578,  0.12986018,  0.20574267,  1.0285345 ,  0.61713858,\n",
       "         0.41139591],\n",
       "       [ 0.12986018, -0.38604214, -0.07588249,  0.89867432,  0.41139591,\n",
       "         0.4872784 ]])"
      ]
     },
     "execution_count": 75,
     "metadata": {},
     "output_type": "execute_result"
    }
   ],
   "source": [
    "optimized_matrix = u.dot(dia).dot(v)\n",
    "optimized_matrix"
   ]
  },
  {
   "cell_type": "markdown",
   "metadata": {},
   "source": [
    "### calculate dimension reduced features for each documents(here 2 features are preserved)"
   ]
  },
  {
   "cell_type": "code",
   "execution_count": 77,
   "metadata": {},
   "outputs": [
    {
     "data": {
      "text/plain": [
       "array([[ 1.61889806,  0.60487661,  0.44034748,  0.96569316,  0.70302032,\n",
       "         0.26267284],\n",
       "       [-0.45671719, -0.84256593, -0.29617436,  0.99731918,  0.35057241,\n",
       "         0.64674677],\n",
       "       [ 0.        ,  0.        ,  0.        ,  0.        ,  0.        ,\n",
       "         0.        ],\n",
       "       [ 0.        ,  0.        ,  0.        ,  0.        ,  0.        ,\n",
       "         0.        ],\n",
       "       [ 0.        ,  0.        ,  0.        ,  0.        ,  0.        ,\n",
       "         0.        ]])"
      ]
     },
     "execution_count": 77,
     "metadata": {},
     "output_type": "execute_result"
    }
   ],
   "source": [
    "reduced_dimention = dia.dot(v)\n",
    "reduced_dimention"
   ]
  }
 ],
 "metadata": {
  "kernelspec": {
   "display_name": "Python 3",
   "language": "python",
   "name": "python3"
  },
  "language_info": {
   "codemirror_mode": {
    "name": "ipython",
    "version": 3
   },
   "file_extension": ".py",
   "mimetype": "text/x-python",
   "name": "python",
   "nbconvert_exporter": "python",
   "pygments_lexer": "ipython3",
   "version": "3.7.4"
  }
 },
 "nbformat": 4,
 "nbformat_minor": 2
}
