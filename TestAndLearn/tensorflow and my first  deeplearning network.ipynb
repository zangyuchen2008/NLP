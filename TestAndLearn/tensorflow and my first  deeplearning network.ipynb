{
 "cells": [
  {
   "cell_type": "markdown",
   "metadata": {},
   "source": [
    "# Tensorflow learn"
   ]
  },
  {
   "cell_type": "markdown",
   "metadata": {},
   "source": [
    "### mnist data set"
   ]
  },
  {
   "cell_type": "code",
   "execution_count": 1,
   "metadata": {},
   "outputs": [
    {
     "name": "stderr",
     "output_type": "stream",
     "text": [
      "C:\\ProgramData\\Anaconda3\\lib\\site-packages\\tensorflow\\python\\framework\\dtypes.py:516: FutureWarning: Passing (type, 1) or '1type' as a synonym of type is deprecated; in a future version of numpy, it will be understood as (type, (1,)) / '(1,)type'.\n",
      "  _np_qint8 = np.dtype([(\"qint8\", np.int8, 1)])\n",
      "C:\\ProgramData\\Anaconda3\\lib\\site-packages\\tensorflow\\python\\framework\\dtypes.py:517: FutureWarning: Passing (type, 1) or '1type' as a synonym of type is deprecated; in a future version of numpy, it will be understood as (type, (1,)) / '(1,)type'.\n",
      "  _np_quint8 = np.dtype([(\"quint8\", np.uint8, 1)])\n",
      "C:\\ProgramData\\Anaconda3\\lib\\site-packages\\tensorflow\\python\\framework\\dtypes.py:518: FutureWarning: Passing (type, 1) or '1type' as a synonym of type is deprecated; in a future version of numpy, it will be understood as (type, (1,)) / '(1,)type'.\n",
      "  _np_qint16 = np.dtype([(\"qint16\", np.int16, 1)])\n",
      "C:\\ProgramData\\Anaconda3\\lib\\site-packages\\tensorflow\\python\\framework\\dtypes.py:519: FutureWarning: Passing (type, 1) or '1type' as a synonym of type is deprecated; in a future version of numpy, it will be understood as (type, (1,)) / '(1,)type'.\n",
      "  _np_quint16 = np.dtype([(\"quint16\", np.uint16, 1)])\n",
      "C:\\ProgramData\\Anaconda3\\lib\\site-packages\\tensorflow\\python\\framework\\dtypes.py:520: FutureWarning: Passing (type, 1) or '1type' as a synonym of type is deprecated; in a future version of numpy, it will be understood as (type, (1,)) / '(1,)type'.\n",
      "  _np_qint32 = np.dtype([(\"qint32\", np.int32, 1)])\n",
      "C:\\ProgramData\\Anaconda3\\lib\\site-packages\\tensorflow\\python\\framework\\dtypes.py:525: FutureWarning: Passing (type, 1) or '1type' as a synonym of type is deprecated; in a future version of numpy, it will be understood as (type, (1,)) / '(1,)type'.\n",
      "  np_resource = np.dtype([(\"resource\", np.ubyte, 1)])\n",
      "C:\\ProgramData\\Anaconda3\\lib\\site-packages\\tensorboard\\compat\\tensorflow_stub\\dtypes.py:541: FutureWarning: Passing (type, 1) or '1type' as a synonym of type is deprecated; in a future version of numpy, it will be understood as (type, (1,)) / '(1,)type'.\n",
      "  _np_qint8 = np.dtype([(\"qint8\", np.int8, 1)])\n",
      "C:\\ProgramData\\Anaconda3\\lib\\site-packages\\tensorboard\\compat\\tensorflow_stub\\dtypes.py:542: FutureWarning: Passing (type, 1) or '1type' as a synonym of type is deprecated; in a future version of numpy, it will be understood as (type, (1,)) / '(1,)type'.\n",
      "  _np_quint8 = np.dtype([(\"quint8\", np.uint8, 1)])\n",
      "C:\\ProgramData\\Anaconda3\\lib\\site-packages\\tensorboard\\compat\\tensorflow_stub\\dtypes.py:543: FutureWarning: Passing (type, 1) or '1type' as a synonym of type is deprecated; in a future version of numpy, it will be understood as (type, (1,)) / '(1,)type'.\n",
      "  _np_qint16 = np.dtype([(\"qint16\", np.int16, 1)])\n",
      "C:\\ProgramData\\Anaconda3\\lib\\site-packages\\tensorboard\\compat\\tensorflow_stub\\dtypes.py:544: FutureWarning: Passing (type, 1) or '1type' as a synonym of type is deprecated; in a future version of numpy, it will be understood as (type, (1,)) / '(1,)type'.\n",
      "  _np_quint16 = np.dtype([(\"quint16\", np.uint16, 1)])\n",
      "C:\\ProgramData\\Anaconda3\\lib\\site-packages\\tensorboard\\compat\\tensorflow_stub\\dtypes.py:545: FutureWarning: Passing (type, 1) or '1type' as a synonym of type is deprecated; in a future version of numpy, it will be understood as (type, (1,)) / '(1,)type'.\n",
      "  _np_qint32 = np.dtype([(\"qint32\", np.int32, 1)])\n",
      "C:\\ProgramData\\Anaconda3\\lib\\site-packages\\tensorboard\\compat\\tensorflow_stub\\dtypes.py:550: FutureWarning: Passing (type, 1) or '1type' as a synonym of type is deprecated; in a future version of numpy, it will be understood as (type, (1,)) / '(1,)type'.\n",
      "  np_resource = np.dtype([(\"resource\", np.ubyte, 1)])\n"
     ]
    }
   ],
   "source": [
    "import tensorflow as tf\n",
    "\n",
    "# Import MINST data\n",
    "from tensorflow.examples.tutorials.mnist import input_data"
   ]
  },
  {
   "cell_type": "code",
   "execution_count": 2,
   "metadata": {},
   "outputs": [
    {
     "name": "stdout",
     "output_type": "stream",
     "text": [
      "WARNING:tensorflow:From <ipython-input-2-a839aeb82f4b>:1: read_data_sets (from tensorflow.contrib.learn.python.learn.datasets.mnist) is deprecated and will be removed in a future version.\n",
      "Instructions for updating:\n",
      "Please use alternatives such as official/mnist/dataset.py from tensorflow/models.\n",
      "WARNING:tensorflow:From C:\\ProgramData\\Anaconda3\\lib\\site-packages\\tensorflow\\contrib\\learn\\python\\learn\\datasets\\mnist.py:260: maybe_download (from tensorflow.contrib.learn.python.learn.datasets.base) is deprecated and will be removed in a future version.\n",
      "Instructions for updating:\n",
      "Please write your own downloading logic.\n",
      "WARNING:tensorflow:From C:\\ProgramData\\Anaconda3\\lib\\site-packages\\tensorflow\\contrib\\learn\\python\\learn\\datasets\\mnist.py:262: extract_images (from tensorflow.contrib.learn.python.learn.datasets.mnist) is deprecated and will be removed in a future version.\n",
      "Instructions for updating:\n",
      "Please use tf.data to implement this functionality.\n",
      "Extracting MNIST_data/train-images-idx3-ubyte.gz\n",
      "WARNING:tensorflow:From C:\\ProgramData\\Anaconda3\\lib\\site-packages\\tensorflow\\contrib\\learn\\python\\learn\\datasets\\mnist.py:267: extract_labels (from tensorflow.contrib.learn.python.learn.datasets.mnist) is deprecated and will be removed in a future version.\n",
      "Instructions for updating:\n",
      "Please use tf.data to implement this functionality.\n",
      "Extracting MNIST_data/train-labels-idx1-ubyte.gz\n",
      "WARNING:tensorflow:From C:\\ProgramData\\Anaconda3\\lib\\site-packages\\tensorflow\\contrib\\learn\\python\\learn\\datasets\\mnist.py:110: dense_to_one_hot (from tensorflow.contrib.learn.python.learn.datasets.mnist) is deprecated and will be removed in a future version.\n",
      "Instructions for updating:\n",
      "Please use tf.one_hot on tensors.\n",
      "Extracting MNIST_data/t10k-images-idx3-ubyte.gz\n",
      "Extracting MNIST_data/t10k-labels-idx1-ubyte.gz\n",
      "WARNING:tensorflow:From C:\\ProgramData\\Anaconda3\\lib\\site-packages\\tensorflow\\contrib\\learn\\python\\learn\\datasets\\mnist.py:290: DataSet.__init__ (from tensorflow.contrib.learn.python.learn.datasets.mnist) is deprecated and will be removed in a future version.\n",
      "Instructions for updating:\n",
      "Please use alternatives such as official/mnist/dataset.py from tensorflow/models.\n"
     ]
    }
   ],
   "source": [
    "mnist = input_data.read_data_sets(\"MNIST_data/\", one_hot=True)"
   ]
  },
  {
   "cell_type": "code",
   "execution_count": 3,
   "metadata": {},
   "outputs": [],
   "source": [
    "X_train = mnist.train.images\n",
    "Y_train = mnist.train.labels\n",
    "X_test = mnist.test.images\n",
    "Y_test = mnist.test.labels"
   ]
  },
  {
   "cell_type": "code",
   "execution_count": 4,
   "metadata": {},
   "outputs": [],
   "source": [
    "import matplotlib.pyplot as plt\n",
    "import numpy as np"
   ]
  },
  {
   "cell_type": "markdown",
   "metadata": {},
   "source": [
    "### linear regression"
   ]
  },
  {
   "cell_type": "code",
   "execution_count": 5,
   "metadata": {},
   "outputs": [],
   "source": [
    "train_X = np.random.randn(20)\n",
    "train_Y = np.random.randn(20)\n",
    "n_sample = train_X.shape[0]"
   ]
  },
  {
   "cell_type": "code",
   "execution_count": 6,
   "metadata": {},
   "outputs": [],
   "source": [
    "X = tf.placeholder(tf.float32)\n",
    "Y = tf.placeholder(tf.float32)"
   ]
  },
  {
   "cell_type": "code",
   "execution_count": 7,
   "metadata": {},
   "outputs": [],
   "source": [
    "import random as rd"
   ]
  },
  {
   "cell_type": "code",
   "execution_count": 8,
   "metadata": {},
   "outputs": [],
   "source": [
    "W = tf.Variable(rd.random(),name = 'weight')\n",
    "b = tf.Variable(rd.random(), name = 'bias')"
   ]
  },
  {
   "cell_type": "code",
   "execution_count": 9,
   "metadata": {},
   "outputs": [],
   "source": [
    "pre = tf.multiply(W,X)+ b"
   ]
  },
  {
   "cell_type": "code",
   "execution_count": 10,
   "metadata": {},
   "outputs": [],
   "source": [
    "cost = tf.reduce_sum(tf.pow(pre-Y,2)) / (n_sample*2)"
   ]
  },
  {
   "cell_type": "code",
   "execution_count": 11,
   "metadata": {},
   "outputs": [],
   "source": [
    "optimizer = tf.train.GradientDescentOptimizer(0.1)"
   ]
  },
  {
   "cell_type": "code",
   "execution_count": 12,
   "metadata": {},
   "outputs": [
    {
     "name": "stdout",
     "output_type": "stream",
     "text": [
      "WARNING:tensorflow:From C:\\ProgramData\\Anaconda3\\lib\\site-packages\\tensorflow\\python\\ops\\math_grad.py:1205: add_dispatch_support.<locals>.wrapper (from tensorflow.python.ops.array_ops) is deprecated and will be removed in a future version.\n",
      "Instructions for updating:\n",
      "Use tf.where in 2.0, which has the same broadcast rule as np.where\n"
     ]
    }
   ],
   "source": [
    "optimizer = optimizer.minimize(cost)"
   ]
  },
  {
   "cell_type": "code",
   "execution_count": 13,
   "metadata": {},
   "outputs": [],
   "source": [
    "init = tf.global_variables_initializer()"
   ]
  },
  {
   "cell_type": "code",
   "execution_count": 14,
   "metadata": {
    "scrolled": false
   },
   "outputs": [
    {
     "data": {
      "image/png": "[encoded data removed]",
      "text/plain": [
       "<Figure size 432x288 with 1 Axes>"
      ]
     },
     "metadata": {
      "needs_background": "light"
     },
     "output_type": "display_data"
    }
   ],
   "source": [
    "train_X = np.random.randn(20)\n",
    "train_Y = np.random.randn(20)\n",
    "with tf.Session() as S:\n",
    "    S.run(init)\n",
    "    for epoch in range(10):\n",
    "        for x, y in zip(train_X,train_Y):\n",
    "            S.run(optimizer,feed_dict={X:x,Y:y})\n",
    "    plt.plot(train_X, train_Y, 'ro',label='original' )\n",
    "    plt.plot(train_X, S.run(W) * train_X + S.run(b),label='regerssion' )\n",
    "    plt.legend()\n",
    "    plt.show()"
   ]
  },
  {
   "cell_type": "markdown",
   "metadata": {},
   "source": [
    "### classification- logic regression?"
   ]
  },
  {
   "cell_type": "code",
   "execution_count": 15,
   "metadata": {},
   "outputs": [
    {
     "name": "stdout",
     "output_type": "stream",
     "text": [
      "Extracting MNIST_data/train-images-idx3-ubyte.gz\n",
      "Extracting MNIST_data/train-labels-idx1-ubyte.gz\n",
      "Extracting MNIST_data/t10k-images-idx3-ubyte.gz\n",
      "Extracting MNIST_data/t10k-labels-idx1-ubyte.gz\n"
     ]
    }
   ],
   "source": [
    "mnist = input_data.read_data_sets(\"MNIST_data/\", one_hot=True)"
   ]
  },
  {
   "cell_type": "code",
   "execution_count": 16,
   "metadata": {},
   "outputs": [],
   "source": [
    "# Parameters\n",
    "learning_rate = 0.01\n",
    "training_epochs = 25\n",
    "batch_size = 100\n",
    "display_step = 1\n",
    "\n",
    "# tf Graph Input\n",
    "x = tf.placeholder(tf.float32, [None, 784]) # mnist data image of shape 28*28=784\n",
    "y = tf.placeholder(tf.float32, [None, 10]) # 0-9 digits recognition => 10 classes\n",
    "\n",
    "# Set model weights\n",
    "W = tf.Variable(tf.zeros([784, 10]))\n",
    "b = tf.Variable(tf.zeros([10]))\n",
    "\n",
    "# Construct model\n",
    "pred = tf.nn.softmax(tf.matmul(x, W) + b) # Softmax\n",
    "\n",
    "# Minimize error using cross entropy\n",
    "cost = tf.reduce_mean(-tf.reduce_sum(y*tf.log(pred), reduction_indices=1))\n",
    "# Gradient Descent\n",
    "optimizer = tf.train.GradientDescentOptimizer(learning_rate).minimize(cost)\n",
    "\n",
    "# Initialize the variables (i.e. assign their default value)\n",
    "init = tf.global_variables_initializer()"
   ]
  },
  {
   "cell_type": "code",
   "execution_count": 17,
   "metadata": {
    "scrolled": true
   },
   "outputs": [
    {
     "name": "stdout",
     "output_type": "stream",
     "text": [
      "Epoch: 0001 cost= 1.184052848\n",
      "Epoch: 0002 cost= 0.665213393\n",
      "Epoch: 0003 cost= 0.552800362\n",
      "Epoch: 0004 cost= 0.498709652\n",
      "Epoch: 0005 cost= 0.465499802\n",
      "Epoch: 0006 cost= 0.442620554\n",
      "Epoch: 0007 cost= 0.425525209\n",
      "Epoch: 0008 cost= 0.412237410\n",
      "Epoch: 0009 cost= 0.401394178\n",
      "Epoch: 0010 cost= 0.392392668\n",
      "Epoch: 0011 cost= 0.384721325\n",
      "Epoch: 0012 cost= 0.378215094\n",
      "Epoch: 0013 cost= 0.372429283\n",
      "Epoch: 0014 cost= 0.367339631\n",
      "Epoch: 0015 cost= 0.362750064\n",
      "Epoch: 0016 cost= 0.358579096\n",
      "Epoch: 0017 cost= 0.354894941\n",
      "Epoch: 0018 cost= 0.351446913\n",
      "Epoch: 0019 cost= 0.348306705\n",
      "Epoch: 0020 cost= 0.345474621\n",
      "Epoch: 0021 cost= 0.342734123\n",
      "Epoch: 0022 cost= 0.340249637\n",
      "Epoch: 0023 cost= 0.337943090\n",
      "Epoch: 0024 cost= 0.335742252\n",
      "Epoch: 0025 cost= 0.333726155\n",
      "Optimization Finished!\n",
      "Accuracy: 0.889\n"
     ]
    }
   ],
   "source": [
    "# Start training\n",
    "with tf.Session() as sess:\n",
    "    sess.run(init)\n",
    "\n",
    "    # Training cycle\n",
    "    for epoch in range(training_epochs):\n",
    "        avg_cost = 0.\n",
    "        total_batch = int(mnist.train.num_examples/batch_size)\n",
    "        # Loop over all batches\n",
    "        for i in range(total_batch):\n",
    "            batch_xs, batch_ys = mnist.train.next_batch(batch_size)\n",
    "            # Fit training using batch data\n",
    "            _, c = sess.run([optimizer, cost], feed_dict={x: batch_xs,\n",
    "                                                          y: batch_ys})\n",
    "            # Compute average loss\n",
    "            avg_cost += c / total_batch\n",
    "        # Display logs per epoch step\n",
    "        if (epoch+1) % display_step == 0:\n",
    "            print(\"Epoch:\", '%04d' % (epoch+1), \"cost=\", \"{:.9f}\".format(avg_cost))\n",
    "    print(\"Optimization Finished!\") \n",
    "\n",
    "    # Test model\n",
    "    correct_prediction = tf.equal(tf.argmax(pred, 1), tf.argmax(y, 1))\n",
    "    # Calculate accuracy for 3000 examples\n",
    "    accuracy = tf.reduce_mean(tf.cast(correct_prediction, tf.float32))\n",
    "    print (\"Accuracy:\", accuracy.eval({x: mnist.test.images[:3000], y: mnist.test.labels[:3000]}))"
   ]
  },
  {
   "cell_type": "markdown",
   "metadata": {},
   "source": [
    "### KNN"
   ]
  },
  {
   "cell_type": "code",
   "execution_count": 18,
   "metadata": {},
   "outputs": [],
   "source": [
    "# In this example, we limit mnist data\n",
    "Xtr, Ytr = mnist.train.next_batch(5000) #5000 for training (nn candidates)\n",
    "Xte, Yte = mnist.test.next_batch(200) #200 for testing\n",
    "\n",
    "# tf Graph Input\n",
    "xtr = tf.placeholder(\"float\", [None, 784])\n",
    "xte = tf.placeholder(\"float\", [784])\n",
    "\n",
    "# Nearest Neighbor calculation using L1 Distance\n",
    "# Calculate L1 Distance\n",
    "distance = tf.reduce_sum(tf.abs(tf.add(xtr, tf.negative(xte))), reduction_indices=1)\n",
    "# Prediction: Get min distance index (Nearest neighbor)\n",
    "pred = tf.argmin(distance, 0)\n",
    "\n",
    "accuracy = 0.\n",
    "\n",
    "# Initialize the variables (i.e. assign their default value)\n",
    "init = tf.global_variables_initializer()"
   ]
  },
  {
   "cell_type": "code",
   "execution_count": 19,
   "metadata": {},
   "outputs": [
    {
     "name": "stdout",
     "output_type": "stream",
     "text": [
      "Test 0 Prediction: 7 True Class: 2\n",
      "Test 1 Prediction: 1 True Class: 1\n",
      "Test 2 Prediction: 7 True Class: 7\n",
      "Test 3 Prediction: 5 True Class: 5\n",
      "Test 4 Prediction: 2 True Class: 2\n",
      "Test 5 Prediction: 5 True Class: 5\n",
      "Test 6 Prediction: 4 True Class: 4\n",
      "Test 7 Prediction: 8 True Class: 8\n",
      "Test 8 Prediction: 8 True Class: 8\n",
      "Test 9 Prediction: 3 True Class: 3\n",
      "Test 10 Prediction: 4 True Class: 4\n",
      "Test 11 Prediction: 3 True Class: 3\n",
      "Test 12 Prediction: 8 True Class: 8\n",
      "Test 13 Prediction: 7 True Class: 7\n",
      "Test 14 Prediction: 3 True Class: 3\n",
      "Test 15 Prediction: 6 True Class: 6\n",
      "Test 16 Prediction: 3 True Class: 3\n",
      "Test 17 Prediction: 7 True Class: 7\n",
      "Test 18 Prediction: 2 True Class: 2\n",
      "Test 19 Prediction: 8 True Class: 8\n",
      "Test 20 Prediction: 8 True Class: 8\n",
      "Test 21 Prediction: 7 True Class: 7\n",
      "Test 22 Prediction: 6 True Class: 6\n",
      "Test 23 Prediction: 4 True Class: 4\n",
      "Test 24 Prediction: 6 True Class: 6\n",
      "Test 25 Prediction: 1 True Class: 1\n",
      "Test 26 Prediction: 2 True Class: 2\n",
      "Test 27 Prediction: 5 True Class: 5\n",
      "Test 28 Prediction: 9 True Class: 9\n",
      "Test 29 Prediction: 1 True Class: 1\n",
      "Test 30 Prediction: 0 True Class: 0\n",
      "Test 31 Prediction: 8 True Class: 8\n",
      "Test 32 Prediction: 6 True Class: 6\n",
      "Test 33 Prediction: 3 True Class: 3\n",
      "Test 34 Prediction: 7 True Class: 7\n",
      "Test 35 Prediction: 9 True Class: 4\n",
      "Test 36 Prediction: 0 True Class: 0\n",
      "Test 37 Prediction: 4 True Class: 4\n",
      "Test 38 Prediction: 6 True Class: 6\n",
      "Test 39 Prediction: 6 True Class: 6\n",
      "Test 40 Prediction: 8 True Class: 8\n",
      "Test 41 Prediction: 9 True Class: 7\n",
      "Test 42 Prediction: 5 True Class: 0\n",
      "Test 43 Prediction: 0 True Class: 0\n",
      "Test 44 Prediction: 7 True Class: 7\n",
      "Test 45 Prediction: 2 True Class: 2\n",
      "Test 46 Prediction: 7 True Class: 7\n",
      "Test 47 Prediction: 1 True Class: 1\n",
      "Test 48 Prediction: 5 True Class: 5\n",
      "Test 49 Prediction: 5 True Class: 5\n",
      "Test 50 Prediction: 9 True Class: 9\n",
      "Test 51 Prediction: 6 True Class: 6\n",
      "Test 52 Prediction: 1 True Class: 1\n",
      "Test 53 Prediction: 6 True Class: 6\n",
      "Test 54 Prediction: 0 True Class: 0\n",
      "Test 55 Prediction: 3 True Class: 3\n",
      "Test 56 Prediction: 5 True Class: 5\n",
      "Test 57 Prediction: 6 True Class: 6\n",
      "Test 58 Prediction: 1 True Class: 1\n",
      "Test 59 Prediction: 4 True Class: 4\n",
      "Test 60 Prediction: 1 True Class: 1\n",
      "Test 61 Prediction: 9 True Class: 9\n",
      "Test 62 Prediction: 8 True Class: 8\n",
      "Test 63 Prediction: 8 True Class: 8\n",
      "Test 64 Prediction: 1 True Class: 1\n",
      "Test 65 Prediction: 2 True Class: 2\n",
      "Test 66 Prediction: 8 True Class: 8\n",
      "Test 67 Prediction: 3 True Class: 3\n",
      "Test 68 Prediction: 9 True Class: 9\n",
      "Test 69 Prediction: 3 True Class: 3\n",
      "Test 70 Prediction: 8 True Class: 8\n",
      "Test 71 Prediction: 3 True Class: 3\n",
      "Test 72 Prediction: 5 True Class: 5\n",
      "Test 73 Prediction: 8 True Class: 8\n",
      "Test 74 Prediction: 1 True Class: 1\n",
      "Test 75 Prediction: 4 True Class: 4\n",
      "Test 76 Prediction: 9 True Class: 9\n",
      "Test 77 Prediction: 9 True Class: 9\n",
      "Test 78 Prediction: 9 True Class: 7\n",
      "Test 79 Prediction: 7 True Class: 7\n",
      "Test 80 Prediction: 5 True Class: 5\n",
      "Test 81 Prediction: 7 True Class: 7\n",
      "Test 82 Prediction: 5 True Class: 5\n",
      "Test 83 Prediction: 3 True Class: 3\n",
      "Test 84 Prediction: 1 True Class: 1\n",
      "Test 85 Prediction: 9 True Class: 9\n",
      "Test 86 Prediction: 1 True Class: 1\n",
      "Test 87 Prediction: 9 True Class: 9\n",
      "Test 88 Prediction: 4 True Class: 4\n",
      "Test 89 Prediction: 6 True Class: 6\n",
      "Test 90 Prediction: 1 True Class: 1\n",
      "Test 91 Prediction: 6 True Class: 2\n",
      "Test 92 Prediction: 2 True Class: 2\n",
      "Test 93 Prediction: 2 True Class: 2\n",
      "Test 94 Prediction: 1 True Class: 5\n",
      "Test 95 Prediction: 3 True Class: 3\n",
      "Test 96 Prediction: 1 True Class: 1\n",
      "Test 97 Prediction: 5 True Class: 5\n",
      "Test 98 Prediction: 7 True Class: 7\n",
      "Test 99 Prediction: 9 True Class: 9\n",
      "Test 100 Prediction: 0 True Class: 0\n",
      "Test 101 Prediction: 6 True Class: 6\n",
      "Test 102 Prediction: 3 True Class: 3\n",
      "Test 103 Prediction: 8 True Class: 8\n",
      "Test 104 Prediction: 8 True Class: 8\n",
      "Test 105 Prediction: 1 True Class: 1\n",
      "Test 106 Prediction: 0 True Class: 0\n",
      "Test 107 Prediction: 6 True Class: 6\n",
      "Test 108 Prediction: 9 True Class: 9\n",
      "Test 109 Prediction: 0 True Class: 0\n",
      "Test 110 Prediction: 2 True Class: 2\n",
      "Test 111 Prediction: 3 True Class: 5\n",
      "Test 112 Prediction: 0 True Class: 0\n",
      "Test 113 Prediction: 7 True Class: 7\n",
      "Test 114 Prediction: 7 True Class: 7\n",
      "Test 115 Prediction: 9 True Class: 9\n",
      "Test 116 Prediction: 0 True Class: 0\n",
      "Test 117 Prediction: 3 True Class: 3\n",
      "Test 118 Prediction: 3 True Class: 3\n",
      "Test 119 Prediction: 6 True Class: 6\n",
      "Test 120 Prediction: 8 True Class: 8\n",
      "Test 121 Prediction: 8 True Class: 8\n",
      "Test 122 Prediction: 6 True Class: 6\n",
      "Test 123 Prediction: 8 True Class: 8\n",
      "Test 124 Prediction: 4 True Class: 4\n",
      "Test 125 Prediction: 4 True Class: 4\n",
      "Test 126 Prediction: 9 True Class: 9\n",
      "Test 127 Prediction: 4 True Class: 4\n",
      "Test 128 Prediction: 6 True Class: 6\n",
      "Test 129 Prediction: 0 True Class: 0\n",
      "Test 130 Prediction: 0 True Class: 0\n",
      "Test 131 Prediction: 7 True Class: 7\n",
      "Test 132 Prediction: 6 True Class: 6\n",
      "Test 133 Prediction: 7 True Class: 7\n",
      "Test 134 Prediction: 1 True Class: 1\n",
      "Test 135 Prediction: 3 True Class: 3\n",
      "Test 136 Prediction: 4 True Class: 4\n",
      "Test 137 Prediction: 5 True Class: 3\n",
      "Test 138 Prediction: 7 True Class: 9\n",
      "Test 139 Prediction: 5 True Class: 5\n",
      "Test 140 Prediction: 6 True Class: 6\n",
      "Test 141 Prediction: 5 True Class: 5\n",
      "Test 142 Prediction: 9 True Class: 9\n",
      "Test 143 Prediction: 9 True Class: 9\n",
      "Test 144 Prediction: 8 True Class: 8\n",
      "Test 145 Prediction: 0 True Class: 0\n",
      "Test 146 Prediction: 2 True Class: 2\n",
      "Test 147 Prediction: 0 True Class: 0\n",
      "Test 148 Prediction: 5 True Class: 5\n",
      "Test 149 Prediction: 6 True Class: 6\n",
      "Test 150 Prediction: 5 True Class: 3\n",
      "Test 151 Prediction: 3 True Class: 3\n",
      "Test 152 Prediction: 3 True Class: 3\n",
      "Test 153 Prediction: 6 True Class: 6\n",
      "Test 154 Prediction: 7 True Class: 4\n",
      "Test 155 Prediction: 5 True Class: 5\n",
      "Test 156 Prediction: 6 True Class: 6\n",
      "Test 157 Prediction: 9 True Class: 9\n",
      "Test 158 Prediction: 2 True Class: 2\n",
      "Test 159 Prediction: 1 True Class: 1\n",
      "Test 160 Prediction: 4 True Class: 4\n",
      "Test 161 Prediction: 7 True Class: 7\n",
      "Test 162 Prediction: 0 True Class: 0\n",
      "Test 163 Prediction: 2 True Class: 2\n",
      "Test 164 Prediction: 5 True Class: 5\n",
      "Test 165 Prediction: 5 True Class: 5\n",
      "Test 166 Prediction: 3 True Class: 3\n",
      "Test 167 Prediction: 5 True Class: 5\n",
      "Test 168 Prediction: 4 True Class: 4\n",
      "Test 169 Prediction: 9 True Class: 9\n",
      "Test 170 Prediction: 0 True Class: 0\n",
      "Test 171 Prediction: 8 True Class: 8\n",
      "Test 172 Prediction: 7 True Class: 7\n",
      "Test 173 Prediction: 3 True Class: 3\n",
      "Test 174 Prediction: 5 True Class: 5\n",
      "Test 175 Prediction: 7 True Class: 7\n",
      "Test 176 Prediction: 6 True Class: 6\n",
      "Test 177 Prediction: 0 True Class: 0\n",
      "Test 178 Prediction: 3 True Class: 5\n",
      "Test 179 Prediction: 9 True Class: 9\n",
      "Test 180 Prediction: 9 True Class: 9\n",
      "Test 181 Prediction: 9 True Class: 9\n",
      "Test 182 Prediction: 4 True Class: 4\n",
      "Test 183 Prediction: 6 True Class: 6\n",
      "Test 184 Prediction: 9 True Class: 9\n",
      "Test 185 Prediction: 2 True Class: 2\n",
      "Test 186 Prediction: 2 True Class: 2\n",
      "Test 187 Prediction: 1 True Class: 1\n",
      "Test 188 Prediction: 7 True Class: 7\n",
      "Test 189 Prediction: 1 True Class: 2\n",
      "Test 190 Prediction: 9 True Class: 9\n",
      "Test 191 Prediction: 1 True Class: 1\n",
      "Test 192 Prediction: 6 True Class: 6\n",
      "Test 193 Prediction: 9 True Class: 9\n",
      "Test 194 Prediction: 0 True Class: 0\n",
      "Test 195 Prediction: 2 True Class: 2\n",
      "Test 196 Prediction: 0 True Class: 0\n",
      "Test 197 Prediction: 7 True Class: 7\n",
      "Test 198 Prediction: 3 True Class: 3\n",
      "Test 199 Prediction: 7 True Class: 3\n",
      "Done!\n",
      "Accuracy: 0.9250000000000007\n"
     ]
    }
   ],
   "source": [
    "# Start training\n",
    "with tf.Session() as sess:\n",
    "    sess.run(init)\n",
    "\n",
    "    # loop over test data\n",
    "    for i in range(len(Xte)):\n",
    "        # Get nearest neighbor\n",
    "        nn_index = sess.run(pred, feed_dict={xtr: Xtr, xte: Xte[i, :]})\n",
    "        # Get nearest neighbor class label and compare it to its true label\n",
    "        print(\"Test\", i, \"Prediction:\", np.argmax(Ytr[nn_index]), \\\n",
    "            \"True Class:\", np.argmax(Yte[i]))\n",
    "        # Calculate accuracy\n",
    "        if np.argmax(Ytr[nn_index]) == np.argmax(Yte[i]):\n",
    "            accuracy += 1./len(Xte)\n",
    "    print(\"Done!\")\n",
    "    print (\"Accuracy:\", accuracy)"
   ]
  },
  {
   "cell_type": "markdown",
   "metadata": {},
   "source": [
    "### my first simple neural network"
   ]
  },
  {
   "cell_type": "code",
   "execution_count": 91,
   "metadata": {},
   "outputs": [],
   "source": [
    "X = tf.placeholder(tf.float32,[None, 784])\n",
    "Y = tf.placeholder(tf.float32,[None, 10])\n",
    "W0 = tf.Variable(tf.truncated_normal([784,30]))\n",
    "b0 = tf.Variable(tf.zeros([30]))\n",
    "W1 = tf.Variable(tf.truncated_normal([30,10]))\n",
    "b1 = tf.Variable(tf.zeros([10]))"
   ]
  },
  {
   "cell_type": "code",
   "execution_count": 92,
   "metadata": {},
   "outputs": [],
   "source": [
    "z0 = tf.matmul(X, W0) + b0\n",
    "z0 = tf.sigmoid(z0)\n",
    "z1 = tf.matmul(z0, W1) + b1"
   ]
  },
  {
   "cell_type": "code",
   "execution_count": 93,
   "metadata": {},
   "outputs": [],
   "source": [
    "loss = tf.reduce_mean(tf.nn.softmax_cross_entropy_with_logits(logits=z1, labels=tf.cast(Y, dtype=tf.int32)))"
   ]
  },
  {
   "cell_type": "code",
   "execution_count": 94,
   "metadata": {},
   "outputs": [],
   "source": [
    "optimizer = tf.train.GradientDescentOptimizer(0.5)\n",
    "optimizer = optimizer.minimize(loss)"
   ]
  },
  {
   "cell_type": "code",
   "execution_count": 95,
   "metadata": {},
   "outputs": [],
   "source": [
    "correct_pred = tf.equal(tf.argmax(z1, 1), tf.argmax(Y, 1))\n",
    "accuracy = 100*tf.reduce_mean(tf.cast(correct_pred, tf.float32))"
   ]
  },
  {
   "cell_type": "code",
   "execution_count": 96,
   "metadata": {},
   "outputs": [],
   "source": [
    "init = tf.global_variables_initializer()"
   ]
  },
  {
   "cell_type": "code",
   "execution_count": 97,
   "metadata": {},
   "outputs": [],
   "source": [
    "X1 = X_train[:10000]\n",
    "Y1 = Y_train[:10000]\n",
    "X2 = X_test[:10000]\n",
    "Y2 = Y_test[:10000]"
   ]
  },
  {
   "cell_type": "code",
   "execution_count": 98,
   "metadata": {},
   "outputs": [
    {
     "name": "stdout",
     "output_type": "stream",
     "text": [
      "X1: (10000, 784) \n",
      " Y1: (10000, 10)\n"
     ]
    }
   ],
   "source": [
    "print('X1:',X1.shape,'\\n','Y1:',Y1.shape)"
   ]
  },
  {
   "cell_type": "code",
   "execution_count": 99,
   "metadata": {},
   "outputs": [],
   "source": [
    "XX, YY = mnist.train.next_batch(128)"
   ]
  },
  {
   "cell_type": "code",
   "execution_count": 100,
   "metadata": {},
   "outputs": [
    {
     "name": "stdout",
     "output_type": "stream",
     "text": [
      "train acc: 82.62182\n",
      "test acc: 82.840004\n",
      "train acc: 91.22\n",
      "test acc: 91.43\n",
      "train acc: 92.921814\n",
      "test acc: 92.58\n",
      "train acc: 94.01818\n",
      "test acc: 93.43\n",
      "train acc: 94.58909\n",
      "test acc: 93.73\n",
      "train acc: 95.141815\n",
      "test acc: 94.22\n",
      "train acc: 95.61273\n",
      "test acc: 94.520004\n",
      "train acc: 95.87818\n",
      "test acc: 94.6\n",
      "train acc: 96.22\n",
      "test acc: 94.8\n",
      "train acc: 96.47091\n",
      "test acc: 94.700005\n"
     ]
    }
   ],
   "source": [
    "with tf.Session() as S:\n",
    "    S.run(init)\n",
    "    for i in range(50):\n",
    "        for j in range(500):\n",
    "            XX, YY = mnist.train.next_batch(128)\n",
    "            S.run(optimizer,feed_dict={X:XX,Y:YY})\n",
    "        if i%5 ==0:\n",
    "            print('train acc:',S.run(accuracy,feed_dict={X: X_train,Y: Y_train}))\n",
    "            print('test acc:',S.run(accuracy,feed_dict={X: X_test,Y: Y_test}))"
   ]
  }
 ],
 "metadata": {
  "kernelspec": {
   "display_name": "Python 3",
   "language": "python",
   "name": "python3"
  },
  "language_info": {
   "codemirror_mode": {
    "name": "ipython",
    "version": 3
   },
   "file_extension": ".py",
   "mimetype": "text/x-python",
   "name": "python",
   "nbconvert_exporter": "python",
   "pygments_lexer": "ipython3",
   "version": "3.7.0"
  }
 },
 "nbformat": 4,
 "nbformat_minor": 2
}
