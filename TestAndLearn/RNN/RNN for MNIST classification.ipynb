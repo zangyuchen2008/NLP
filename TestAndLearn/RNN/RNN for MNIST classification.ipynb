{
 "cells": [
  {
   "cell_type": "markdown",
   "metadata": {},
   "source": [
    "# RNN for MNIST data set"
   ]
  },
  {
   "cell_type": "code",
   "execution_count": 91,
   "metadata": {},
   "outputs": [
    {
     "name": "stdout",
     "output_type": "stream",
     "text": [
      "Extracting /tmp/data/train-images-idx3-ubyte.gz\n",
      "Extracting /tmp/data/train-labels-idx1-ubyte.gz\n",
      "Extracting /tmp/data/t10k-images-idx3-ubyte.gz\n",
      "Extracting /tmp/data/t10k-labels-idx1-ubyte.gz\n"
     ]
    }
   ],
   "source": [
    "from tensorflow.examples.tutorials.mnist import input_data\n",
    "mnist = input_data.read_data_sets(\"/tmp/data/\")\n",
    "X_test = mnist.test.images.reshape((-1, n_steps, n_inputs))\n",
    "y_test = mnist.test.labels"
   ]
  },
  {
   "cell_type": "code",
   "execution_count": 92,
   "metadata": {},
   "outputs": [],
   "source": [
    "import tensorflow as tf"
   ]
  },
  {
   "cell_type": "code",
   "execution_count": 93,
   "metadata": {},
   "outputs": [],
   "source": [
    "from tensorflow.contrib.layers import fully_connected\n",
    "tf.reset_default_graph()\n",
    "n_steps = 28\n",
    "n_inputs = 28\n",
    "n_neurons = 150\n",
    "n_outputs = 10\n",
    "learning_rate = 0.001\n",
    "X = tf.placeholder(tf.float32, [None, n_steps, n_inputs])\n",
    "y = tf.placeholder(tf.int32, [None])\n",
    "basic_cell = tf.contrib.rnn.BasicRNNCell(num_units=n_neurons)\n",
    "outputs, states = tf.nn.dynamic_rnn(basic_cell, X, dtype=tf.float32)\n",
    "logits = fully_connected(states, n_outputs, activation_fn=None)\n",
    "xentropy = tf.nn.sparse_softmax_cross_entropy_with_logits(\n",
    "labels=y, logits=logits)\n",
    "loss = tf.reduce_mean(xentropy)\n",
    "optimizer = tf.train.AdamOptimizer(learning_rate=learning_rate)\n",
    "training_op = optimizer.minimize(loss)\n",
    "correct = tf.nn.in_top_k(logits, y, 1)\n",
    "accuracy = tf.reduce_mean(tf.cast(correct, tf.float32))"
   ]
  },
  {
   "cell_type": "code",
   "execution_count": 94,
   "metadata": {},
   "outputs": [],
   "source": [
    "init = tf.global_variables_initializer()"
   ]
  },
  {
   "cell_type": "code",
   "execution_count": 95,
   "metadata": {},
   "outputs": [],
   "source": [
    "with tf.variable_scope(\"rnn\"):\n",
    "    initializer=tf.contrib.layers.variance_scaling_initializer()"
   ]
  },
  {
   "cell_type": "code",
   "execution_count": 96,
   "metadata": {},
   "outputs": [
    {
     "name": "stdout",
     "output_type": "stream",
     "text": [
      "0 Train accuracy: 0.9266667 Test accuracy: 0.9044\n",
      "1 Train accuracy: 0.96666664 Test accuracy: 0.9401\n",
      "2 Train accuracy: 0.93333334 Test accuracy: 0.951\n",
      "3 Train accuracy: 0.96666664 Test accuracy: 0.9574\n",
      "4 Train accuracy: 0.94666666 Test accuracy: 0.9581\n",
      "5 Train accuracy: 0.97333336 Test accuracy: 0.9623\n",
      "6 Train accuracy: 0.98 Test accuracy: 0.9662\n",
      "7 Train accuracy: 0.9866667 Test accuracy: 0.9694\n",
      "8 Train accuracy: 0.99333334 Test accuracy: 0.9678\n",
      "9 Train accuracy: 0.98 Test accuracy: 0.9724\n",
      "10 Train accuracy: 0.98 Test accuracy: 0.9629\n",
      "11 Train accuracy: 0.98 Test accuracy: 0.9685\n",
      "12 Train accuracy: 0.96666664 Test accuracy: 0.9694\n",
      "13 Train accuracy: 1.0 Test accuracy: 0.9752\n",
      "14 Train accuracy: 0.99333334 Test accuracy: 0.9713\n",
      "15 Train accuracy: 0.98 Test accuracy: 0.9745\n",
      "16 Train accuracy: 0.9866667 Test accuracy: 0.9757\n",
      "17 Train accuracy: 0.98 Test accuracy: 0.974\n",
      "18 Train accuracy: 0.99333334 Test accuracy: 0.9704\n",
      "19 Train accuracy: 0.96 Test accuracy: 0.9667\n",
      "20 Train accuracy: 1.0 Test accuracy: 0.9762\n",
      "21 Train accuracy: 0.99333334 Test accuracy: 0.9763\n",
      "22 Train accuracy: 1.0 Test accuracy: 0.9765\n",
      "23 Train accuracy: 0.98 Test accuracy: 0.9748\n",
      "24 Train accuracy: 0.98 Test accuracy: 0.9685\n",
      "25 Train accuracy: 0.98 Test accuracy: 0.9746\n",
      "26 Train accuracy: 0.9866667 Test accuracy: 0.9778\n",
      "27 Train accuracy: 0.97333336 Test accuracy: 0.9746\n",
      "28 Train accuracy: 0.9866667 Test accuracy: 0.9731\n",
      "29 Train accuracy: 0.98 Test accuracy: 0.9773\n",
      "30 Train accuracy: 1.0 Test accuracy: 0.9768\n",
      "31 Train accuracy: 0.9866667 Test accuracy: 0.9744\n",
      "32 Train accuracy: 0.97333336 Test accuracy: 0.9686\n",
      "33 Train accuracy: 0.97333336 Test accuracy: 0.9755\n",
      "34 Train accuracy: 0.99333334 Test accuracy: 0.98\n",
      "35 Train accuracy: 0.99333334 Test accuracy: 0.9732\n",
      "36 Train accuracy: 0.9866667 Test accuracy: 0.9766\n",
      "37 Train accuracy: 0.99333334 Test accuracy: 0.9722\n",
      "38 Train accuracy: 0.99333334 Test accuracy: 0.9719\n",
      "39 Train accuracy: 0.99333334 Test accuracy: 0.9772\n",
      "40 Train accuracy: 0.9866667 Test accuracy: 0.975\n",
      "41 Train accuracy: 0.9866667 Test accuracy: 0.9781\n",
      "42 Train accuracy: 0.98 Test accuracy: 0.973\n",
      "43 Train accuracy: 0.98 Test accuracy: 0.9778\n",
      "44 Train accuracy: 1.0 Test accuracy: 0.9768\n",
      "45 Train accuracy: 0.9866667 Test accuracy: 0.9777\n",
      "46 Train accuracy: 0.98 Test accuracy: 0.9673\n",
      "47 Train accuracy: 0.9866667 Test accuracy: 0.9606\n",
      "48 Train accuracy: 1.0 Test accuracy: 0.9701\n",
      "49 Train accuracy: 0.98 Test accuracy: 0.9771\n",
      "50 Train accuracy: 0.99333334 Test accuracy: 0.9794\n",
      "51 Train accuracy: 0.9866667 Test accuracy: 0.9751\n",
      "52 Train accuracy: 1.0 Test accuracy: 0.9796\n",
      "53 Train accuracy: 1.0 Test accuracy: 0.9705\n",
      "54 Train accuracy: 1.0 Test accuracy: 0.9762\n",
      "55 Train accuracy: 1.0 Test accuracy: 0.9791\n",
      "56 Train accuracy: 0.99333334 Test accuracy: 0.9743\n",
      "57 Train accuracy: 1.0 Test accuracy: 0.9732\n",
      "58 Train accuracy: 0.97333336 Test accuracy: 0.9646\n",
      "59 Train accuracy: 0.99333334 Test accuracy: 0.9782\n",
      "60 Train accuracy: 1.0 Test accuracy: 0.9776\n",
      "61 Train accuracy: 1.0 Test accuracy: 0.9787\n",
      "62 Train accuracy: 0.99333334 Test accuracy: 0.9789\n",
      "63 Train accuracy: 0.99333334 Test accuracy: 0.9778\n",
      "64 Train accuracy: 0.9866667 Test accuracy: 0.974\n",
      "65 Train accuracy: 0.9866667 Test accuracy: 0.9781\n",
      "66 Train accuracy: 0.99333334 Test accuracy: 0.9802\n",
      "67 Train accuracy: 0.99333334 Test accuracy: 0.9781\n",
      "68 Train accuracy: 1.0 Test accuracy: 0.9769\n",
      "69 Train accuracy: 0.9866667 Test accuracy: 0.9813\n",
      "70 Train accuracy: 1.0 Test accuracy: 0.9745\n",
      "71 Train accuracy: 0.99333334 Test accuracy: 0.9766\n",
      "72 Train accuracy: 0.98 Test accuracy: 0.9768\n",
      "73 Train accuracy: 0.99333334 Test accuracy: 0.9765\n",
      "74 Train accuracy: 0.9866667 Test accuracy: 0.9794\n",
      "75 Train accuracy: 0.99333334 Test accuracy: 0.9785\n",
      "76 Train accuracy: 1.0 Test accuracy: 0.9802\n",
      "77 Train accuracy: 0.9866667 Test accuracy: 0.974\n",
      "78 Train accuracy: 0.98 Test accuracy: 0.9816\n",
      "79 Train accuracy: 0.9866667 Test accuracy: 0.9774\n",
      "80 Train accuracy: 1.0 Test accuracy: 0.9702\n",
      "81 Train accuracy: 0.99333334 Test accuracy: 0.9751\n",
      "82 Train accuracy: 0.9866667 Test accuracy: 0.9802\n",
      "83 Train accuracy: 0.9866667 Test accuracy: 0.9797\n",
      "84 Train accuracy: 0.99333334 Test accuracy: 0.9793\n",
      "85 Train accuracy: 1.0 Test accuracy: 0.9779\n",
      "86 Train accuracy: 0.99333334 Test accuracy: 0.98\n",
      "87 Train accuracy: 1.0 Test accuracy: 0.9747\n",
      "88 Train accuracy: 0.9866667 Test accuracy: 0.9711\n",
      "89 Train accuracy: 0.97333336 Test accuracy: 0.9784\n",
      "90 Train accuracy: 0.98 Test accuracy: 0.9783\n",
      "91 Train accuracy: 0.9866667 Test accuracy: 0.9751\n",
      "92 Train accuracy: 0.9866667 Test accuracy: 0.9757\n",
      "93 Train accuracy: 0.99333334 Test accuracy: 0.9779\n",
      "94 Train accuracy: 0.9866667 Test accuracy: 0.9776\n",
      "95 Train accuracy: 0.9866667 Test accuracy: 0.9751\n",
      "96 Train accuracy: 0.9866667 Test accuracy: 0.9765\n",
      "97 Train accuracy: 1.0 Test accuracy: 0.9748\n",
      "98 Train accuracy: 1.0 Test accuracy: 0.9791\n",
      "99 Train accuracy: 1.0 Test accuracy: 0.9794\n"
     ]
    }
   ],
   "source": [
    "n_epochs = 100\n",
    "batch_size = 150\n",
    "with tf.Session() as sess:\n",
    "    init.run()\n",
    "    for epoch in range(n_epochs):\n",
    "        for iteration in range(mnist.train.num_examples // batch_size):\n",
    "            X_batch, y_batch = mnist.train.next_batch(batch_size)\n",
    "            X_batch = X_batch.reshape((-1, n_steps, n_inputs))\n",
    "            sess.run(training_op, feed_dict={X: X_batch, y: y_batch})\n",
    "        acc_train = accuracy.eval(feed_dict={X: X_batch, y: y_batch})\n",
    "        acc_test = accuracy.eval(feed_dict={X: X_test, y: y_test})\n",
    "        print(epoch, \"Train accuracy:\", acc_train, \"Test accuracy:\", acc_test)"
   ]
  }
 ],
 "metadata": {
  "kernelspec": {
   "display_name": "Python 3",
   "language": "python",
   "name": "python3"
  },
  "language_info": {
   "codemirror_mode": {
    "name": "ipython",
    "version": 3
   },
   "file_extension": ".py",
   "mimetype": "text/x-python",
   "name": "python",
   "nbconvert_exporter": "python",
   "pygments_lexer": "ipython3",
   "version": "3.7.0"
  }
 },
 "nbformat": 4,
 "nbformat_minor": 2
}
