{
 "cells": [
  {
   "cell_type": "code",
   "execution_count": 1,
   "metadata": {},
   "outputs": [
    {
     "name": "stdout",
     "output_type": "stream",
     "text": [
      "Collecting keras\n",
      "  Downloading https://files.pythonhosted.org/packages/ad/fd/6bfe87920d7f4fd475acd28500a42482b6b84479832bdc0fe9e589a60ceb/Keras-2.3.1-py2.py3-none-any.whl (377kB)\n",
      "Requirement already satisfied: h5py in c:\\programdata\\anaconda3\\lib\\site-packages (from keras) (2.8.0)\n",
      "Requirement already satisfied: pyyaml in c:\\programdata\\anaconda3\\lib\\site-packages (from keras) (3.13)\n",
      "Requirement already satisfied: keras-applications>=1.0.6 in c:\\programdata\\anaconda3\\lib\\site-packages (from keras) (1.0.8)\n",
      "Requirement already satisfied: numpy>=1.9.1 in d:\\sgmuserprofile\\sjbgwk\\appdata\\roaming\\python\\python37\\site-packages (from keras) (1.17.0)\n",
      "Requirement already satisfied: keras-preprocessing>=1.0.5 in c:\\programdata\\anaconda3\\lib\\site-packages (from keras) (1.1.0)\n",
      "Requirement already satisfied: six>=1.9.0 in d:\\sgmuserprofile\\sjbgwk\\pycharmprojects\\testandlearn\\venv\\lib\\site-packages (from keras) (1.12.0)\n",
      "Requirement already satisfied: scipy>=0.14 in c:\\programdata\\anaconda3\\lib\\site-packages (from keras) (1.1.0)\n",
      "Installing collected packages: keras\n",
      "Successfully installed keras-2.3.1\n"
     ]
    },
    {
     "name": "stderr",
     "output_type": "stream",
     "text": [
      "You are using pip version 10.0.1, however version 19.3.1 is available.\n",
      "You should consider upgrading via the 'python -m pip install --upgrade pip' command.\n"
     ]
    }
   ],
   "source": [
    "!pip install keras"
   ]
  },
  {
   "cell_type": "code",
   "execution_count": 2,
   "metadata": {},
   "outputs": [],
   "source": [
    "from keras.models import Sequential"
   ]
  },
  {
   "cell_type": "code",
   "execution_count": 3,
   "metadata": {},
   "outputs": [],
   "source": [
    "from keras.datasets import fashion_mnist"
   ]
  },
  {
   "cell_type": "code",
   "execution_count": 4,
   "metadata": {},
   "outputs": [
    {
     "name": "stdout",
     "output_type": "stream",
     "text": [
      "Downloading data from http://fashion-mnist.s3-website.eu-central-1.amazonaws.com/train-labels-idx1-ubyte.gz\n",
      "32768/29515 [=================================] - 0s 11us/step\n",
      "Downloading data from http://fashion-mnist.s3-website.eu-central-1.amazonaws.com/train-images-idx3-ubyte.gz\n",
      "26427392/26421880 [==============================] - 5s 0us/step\n",
      "Downloading data from http://fashion-mnist.s3-website.eu-central-1.amazonaws.com/t10k-labels-idx1-ubyte.gz\n",
      "8192/5148 [===============================================] - 0s 0us/step\n",
      "Downloading data from http://fashion-mnist.s3-website.eu-central-1.amazonaws.com/t10k-images-idx3-ubyte.gz\n",
      "4423680/4422102 [==============================] - 2s 1us/step\n"
     ]
    }
   ],
   "source": [
    "(X_train_full, y_train_full), (X_test, y_test) = fashion_mnist.load_data()"
   ]
  },
  {
   "cell_type": "code",
   "execution_count": 5,
   "metadata": {},
   "outputs": [
    {
     "data": {
      "text/plain": [
       "(60000, 28, 28)"
      ]
     },
     "execution_count": 5,
     "metadata": {},
     "output_type": "execute_result"
    }
   ],
   "source": [
    "X_train_full.shape"
   ]
  },
  {
   "cell_type": "code",
   "execution_count": 7,
   "metadata": {},
   "outputs": [],
   "source": [
    "import matplotlib.pyplot as plt"
   ]
  },
  {
   "cell_type": "code",
   "execution_count": 29,
   "metadata": {},
   "outputs": [
    {
     "data": {
      "text/plain": [
       "<matplotlib.image.AxesImage at 0x2cb5f00cc88>"
      ]
     },
     "execution_count": 29,
     "metadata": {},
     "output_type": "execute_result"
    },
    {
     "data": {
      "image/png": "[encoded data removed]",
      "text/plain": [
       "<Figure size 432x288 with 4 Axes>"
      ]
     },
     "metadata": {
      "needs_background": "light"
     },
     "output_type": "display_data"
    }
   ],
   "source": [
    "plt.subplot(2,2,1)\n",
    "plt.imshow(X_train_full[0].reshape(28,28))\n",
    "plt.subplot(2,2,2)\n",
    "plt.imshow(X_train_full[1].reshape(28,28))\n",
    "\n",
    "plt.subplot(2,2,3)\n",
    "plt.imshow(X_train_full[3].reshape(28,28))\n",
    "plt.subplot(2,2,4)\n",
    "plt.imshow(X_train_full[4].reshape(28,28))"
   ]
  },
  {
   "cell_type": "code",
   "execution_count": 31,
   "metadata": {},
   "outputs": [],
   "source": [
    "import keras"
   ]
  },
  {
   "cell_type": "code",
   "execution_count": 32,
   "metadata": {},
   "outputs": [],
   "source": [
    "model = keras.models.Sequential([\n",
    "keras.layers.Flatten(input_shape=[28, 28]),\n",
    "keras.layers.Dense(300, activation=\"relu\"),\n",
    "keras.layers.Dense(100, activation=\"relu\"),\n",
    "keras.layers.Dense(10, activation=\"softmax\")\n",
    "])"
   ]
  },
  {
   "cell_type": "code",
   "execution_count": 39,
   "metadata": {},
   "outputs": [],
   "source": [
    "X_valid, X_train = X_train_full[:5000] / 255.0, X_train_full[5000:] / 255.0\n",
    "y_valid, y_train = y_train_full[:5000], y_train_full[5000:]"
   ]
  },
  {
   "cell_type": "code",
   "execution_count": 33,
   "metadata": {
    "scrolled": true
   },
   "outputs": [
    {
     "name": "stdout",
     "output_type": "stream",
     "text": [
      "Model: \"sequential_1\"\n",
      "_________________________________________________________________\n",
      "Layer (type)                 Output Shape              Param #   \n",
      "=================================================================\n",
      "flatten_1 (Flatten)          (None, 784)               0         \n",
      "_________________________________________________________________\n",
      "dense_1 (Dense)              (None, 300)               235500    \n",
      "_________________________________________________________________\n",
      "dense_2 (Dense)              (None, 100)               30100     \n",
      "_________________________________________________________________\n",
      "dense_3 (Dense)              (None, 10)                1010      \n",
      "=================================================================\n",
      "Total params: 266,610\n",
      "Trainable params: 266,610\n",
      "Non-trainable params: 0\n",
      "_________________________________________________________________\n"
     ]
    }
   ],
   "source": [
    "model.summary()"
   ]
  },
  {
   "cell_type": "code",
   "execution_count": 34,
   "metadata": {},
   "outputs": [],
   "source": [
    "model.compile(loss=\"sparse_categorical_crossentropy\",\n",
    "optimizer=\"sgd\",\n",
    "metrics=[\"accuracy\"])"
   ]
  },
  {
   "cell_type": "code",
   "execution_count": 40,
   "metadata": {},
   "outputs": [
    {
     "name": "stdout",
     "output_type": "stream",
     "text": [
      "WARNING:tensorflow:From C:\\ProgramData\\Anaconda3\\lib\\site-packages\\keras\\backend\\tensorflow_backend.py:422: The name tf.global_variables is deprecated. Please use tf.compat.v1.global_variables instead.\n",
      "\n",
      "Train on 55000 samples, validate on 5000 samples\n",
      "Epoch 1/30\n",
      "55000/55000 [==============================] - 3s 53us/step - loss: 0.6968 - accuracy: 0.7701 - val_loss: 0.5111 - val_accuracy: 0.8266\n",
      "Epoch 2/30\n",
      "55000/55000 [==============================] - 3s 52us/step - loss: 0.4864 - accuracy: 0.8311 - val_loss: 0.4411 - val_accuracy: 0.8462\n",
      "Epoch 3/30\n",
      "55000/55000 [==============================] - 3s 51us/step - loss: 0.4414 - accuracy: 0.8457 - val_loss: 0.4086 - val_accuracy: 0.8574\n",
      "Epoch 4/30\n",
      "55000/55000 [==============================] - 3s 51us/step - loss: 0.4148 - accuracy: 0.8548 - val_loss: 0.4123 - val_accuracy: 0.8608\n",
      "Epoch 5/30\n",
      "55000/55000 [==============================] - 3s 49us/step - loss: 0.3948 - accuracy: 0.8619 - val_loss: 0.4063 - val_accuracy: 0.8548\n",
      "Epoch 6/30\n",
      "55000/55000 [==============================] - 3s 52us/step - loss: 0.3782 - accuracy: 0.8671 - val_loss: 0.3703 - val_accuracy: 0.8718\n",
      "Epoch 7/30\n",
      "55000/55000 [==============================] - 3s 52us/step - loss: 0.3642 - accuracy: 0.8715 - val_loss: 0.3609 - val_accuracy: 0.8746\n",
      "Epoch 8/30\n",
      "55000/55000 [==============================] - 3s 50us/step - loss: 0.3522 - accuracy: 0.8770 - val_loss: 0.3632 - val_accuracy: 0.8728\n",
      "Epoch 9/30\n",
      "55000/55000 [==============================] - 3s 51us/step - loss: 0.3423 - accuracy: 0.8780 - val_loss: 0.3629 - val_accuracy: 0.8748\n",
      "Epoch 10/30\n",
      "55000/55000 [==============================] - 3s 51us/step - loss: 0.3310 - accuracy: 0.8825 - val_loss: 0.3548 - val_accuracy: 0.8726\n",
      "Epoch 11/30\n",
      "55000/55000 [==============================] - 3s 58us/step - loss: 0.3241 - accuracy: 0.8854 - val_loss: 0.3392 - val_accuracy: 0.8800\n",
      "Epoch 12/30\n",
      "55000/55000 [==============================] - 3s 52us/step - loss: 0.3162 - accuracy: 0.8881 - val_loss: 0.3299 - val_accuracy: 0.8812\n",
      "Epoch 13/30\n",
      "55000/55000 [==============================] - 3s 53us/step - loss: 0.3084 - accuracy: 0.8902 - val_loss: 0.3383 - val_accuracy: 0.8816\n",
      "Epoch 14/30\n",
      "55000/55000 [==============================] - 3s 53us/step - loss: 0.3017 - accuracy: 0.8921 - val_loss: 0.3406 - val_accuracy: 0.8778\n",
      "Epoch 15/30\n",
      "55000/55000 [==============================] - 3s 55us/step - loss: 0.2953 - accuracy: 0.8939 - val_loss: 0.3316 - val_accuracy: 0.8772\n",
      "Epoch 16/30\n",
      "55000/55000 [==============================] - 3s 54us/step - loss: 0.2885 - accuracy: 0.8970 - val_loss: 0.3152 - val_accuracy: 0.8850\n",
      "Epoch 17/30\n",
      "55000/55000 [==============================] - 3s 56us/step - loss: 0.2829 - accuracy: 0.8989 - val_loss: 0.3166 - val_accuracy: 0.8880\n",
      "Epoch 18/30\n",
      "55000/55000 [==============================] - 3s 54us/step - loss: 0.2779 - accuracy: 0.9012 - val_loss: 0.3066 - val_accuracy: 0.8928\n",
      "Epoch 19/30\n",
      "55000/55000 [==============================] - 3s 55us/step - loss: 0.2721 - accuracy: 0.9029 - val_loss: 0.3249 - val_accuracy: 0.8844\n",
      "Epoch 20/30\n",
      "55000/55000 [==============================] - 3s 57us/step - loss: 0.2665 - accuracy: 0.9040 - val_loss: 0.3074 - val_accuracy: 0.8852\n",
      "Epoch 21/30\n",
      "55000/55000 [==============================] - 3s 55us/step - loss: 0.2624 - accuracy: 0.9062 - val_loss: 0.3024 - val_accuracy: 0.8874\n",
      "Epoch 22/30\n",
      "55000/55000 [==============================] - 3s 61us/step - loss: 0.2581 - accuracy: 0.9070 - val_loss: 0.3236 - val_accuracy: 0.8854\n",
      "Epoch 23/30\n",
      "55000/55000 [==============================] - 3s 56us/step - loss: 0.2537 - accuracy: 0.9080 - val_loss: 0.3125 - val_accuracy: 0.8824\n",
      "Epoch 24/30\n",
      "55000/55000 [==============================] - 3s 61us/step - loss: 0.2488 - accuracy: 0.9113 - val_loss: 0.3202 - val_accuracy: 0.8834\n",
      "Epoch 25/30\n",
      "55000/55000 [==============================] - 3s 60us/step - loss: 0.2442 - accuracy: 0.9126 - val_loss: 0.3062 - val_accuracy: 0.8876\n",
      "Epoch 26/30\n",
      "55000/55000 [==============================] - 3s 52us/step - loss: 0.2400 - accuracy: 0.9129 - val_loss: 0.2967 - val_accuracy: 0.8918\n",
      "Epoch 27/30\n",
      "55000/55000 [==============================] - 3s 53us/step - loss: 0.2355 - accuracy: 0.9155 - val_loss: 0.3107 - val_accuracy: 0.8910\n",
      "Epoch 28/30\n",
      "55000/55000 [==============================] - 3s 53us/step - loss: 0.2323 - accuracy: 0.9166 - val_loss: 0.2967 - val_accuracy: 0.8908\n",
      "Epoch 29/30\n",
      "55000/55000 [==============================] - 3s 51us/step - loss: 0.2284 - accuracy: 0.9185 - val_loss: 0.3048 - val_accuracy: 0.8912\n",
      "Epoch 30/30\n",
      "55000/55000 [==============================] - 3s 49us/step - loss: 0.2252 - accuracy: 0.9192 - val_loss: 0.3091 - val_accuracy: 0.8908\n"
     ]
    }
   ],
   "source": [
    "history = model.fit(X_train, y_train, epochs=30,\\\n",
    "                    validation_data=(X_valid, y_valid))"
   ]
  }
 ],
 "metadata": {
  "kernelspec": {
   "display_name": "Python 3",
   "language": "python",
   "name": "python3"
  },
  "language_info": {
   "codemirror_mode": {
    "name": "ipython",
    "version": 3
   },
   "file_extension": ".py",
   "mimetype": "text/x-python",
   "name": "python",
   "nbconvert_exporter": "python",
   "pygments_lexer": "ipython3",
   "version": "3.7.0"
  }
 },
 "nbformat": 4,
 "nbformat_minor": 2
}
